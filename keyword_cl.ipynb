{
 "cells": [
  {
   "cell_type": "code",
   "execution_count": 1,
   "metadata": {},
   "outputs": [],
   "source": [
    "with open(r'cloud_txt.txt','a+',encoding='utf-8') as test:     #洗空txt\n",
    "    test.truncate(0)"
   ]
  },
  {
   "cell_type": "code",
   "execution_count": 2,
   "metadata": {},
   "outputs": [],
   "source": [
    "keyword=\"狗\"\n",
    "keyword2=\"貓\""
   ]
  },
  {
   "cell_type": "code",
   "execution_count": 3,
   "metadata": {},
   "outputs": [
    {
     "name": "stdout",
     "output_type": "stream",
     "text": [
      "<class 'dict_values'>\n"
     ]
    },
    {
     "data": {
      "text/plain": [
       "dict_values([{'top':          query  value\n",
       "0         寵物 狗    100\n",
       "1         狗 飼料     52\n",
       "2          dog     49\n",
       "3         流浪 狗     49\n",
       "4         財報 狗     41\n",
       "5         領養 狗     35\n",
       "6       酷 狗 音乐     34\n",
       "7         貴賓 狗     34\n",
       "8         紳士 狗     26\n",
       "9         臘腸 狗     26\n",
       "10      狗 狗 品種     26\n",
       "11        狗 品種     26\n",
       "12      狗 狗 餐廳     25\n",
       "13        認養 狗     23\n",
       "14        布丁 狗     23\n",
       "15      狗 狗 認養     23\n",
       "16          柴犬     22\n",
       "17      呪術 廻 戦     22\n",
       "18  呪術 廻 戦 狗 巻     22\n",
       "19      狗 狗 洗澡     21\n",
       "20    狗 鷲 タイムス     21\n",
       "21        卡通 狗     20\n",
       "22        狗 名字     19\n",
       "23      狗 狗 名字     19\n",
       "24        狗 蛋糕     19, 'rising':           query  value\n",
       "0        呪術 廻 戦  45900\n",
       "1    呪術 廻 戦 狗 巻  45900\n",
       "2        全能 狗 s  15400\n",
       "3    狗 巻 棘 イラスト  15200\n",
       "4      狗 年 吉祥 話  14500\n",
       "5     一条 狗 的 使命   9550\n",
       "6          全能 狗   8300\n",
       "7    狗 一下 吃 到 飽   8150\n",
       "8      台新 黑 狗 卡   8000\n",
       "9        狗 巻 先輩   7200\n",
       "10     狗 巻 棘 声優   6350\n",
       "11  看 門 狗 自由 軍團   5550\n",
       "12         紳士 狗   5300\n",
       "13       狗 年 賀卡   4350\n",
       "14    一條 狗 的 使命   4200\n",
       "15       狗 带 tv   4050\n",
       "16         半天 狗   3950\n",
       "17     狗 年 2018   3900\n",
       "18     小 奶 狗 意思   3800\n",
       "19     狗 喝 水 意思   3650\n",
       "20     狗 年 犯 太歲   3600\n",
       "21  一条 狗 的 使命 2   3500\n",
       "22      半天 狗 コラ   3300\n",
       "23    全能 狗 s 價格   3200\n",
       "24     小手 牵 小 狗   3000}, {'top':         query  value\n",
       "0     黑 貓 宅急便    100\n",
       "1          貓咪     99\n",
       "2      黑 貓 宅配     61\n",
       "3        貓 飼料     51\n",
       "4      黑 貓 查詢     40\n",
       "5        時空 貓     31\n",
       "6        貓 領養     29\n",
       "7        流浪 貓     24\n",
       "8        招財 貓     23\n",
       "9   穿越 時空 的 貓     23\n",
       "10       貓 電影     22\n",
       "11     貓 空 纜車     21\n",
       "12       貓 罐頭     20\n",
       "13       貓 尾巴     20\n",
       "14    貓咪 大 戰爭     18\n",
       "15   黑 貓 營業 所     17\n",
       "16     黑 貓 運費     16\n",
       "17       湯姆 貓     15\n",
       "18       貓 品種     14\n",
       "19       貓 薄荷     14\n",
       "20       貓 耳朵     14\n",
       "21       認養 貓     14\n",
       "22         蝦皮     13\n",
       "23   貓 貓 cafe     13\n",
       "24     貓 cafe     13, 'rising':                  query  value\n",
       "0            穿越 時空 的 貓  62350\n",
       "1             一起 學 貓 叫  18050\n",
       "2               天 貓 精靈  16000\n",
       "3              出 貓 特攻隊  14200\n",
       "4             學 貓 叫 歌詞  12550\n",
       "5          我們 一起 學 貓 叫  12300\n",
       "6   想 哭 的 我 戴 上 貓 的 面具   9900\n",
       "7               小 貓 影音   9550\n",
       "8               龍 貓 隧道   9400\n",
       "9             同居 人 是 貓   5850\n",
       "10        貓 下去 敦 北 俱樂部   4850\n",
       "11              房東 的 貓   4600\n",
       "12              貓 印 直播   4550\n",
       "13              貓 娘 樂園   4250\n",
       "14        穿越 時空 的 貓 攻略   3750\n",
       "15         天 貓 全球 官方 店   3650\n",
       "16             驚奇 隊長 貓   3200\n",
       "17              福 貓 團購   3100\n",
       "18       穿越 時空 的 貓 巴 哈   2700\n",
       "19              六合 黑 貓   2400\n",
       "20              天 貓 超市   2400\n",
       "21            黑 貓 魯 道夫   1800\n",
       "22         天下 貓 貓 一樣 貓   1650\n",
       "23              山 貓 直播   1550\n",
       "24             街 貓 bob   1500}])"
      ]
     },
     "execution_count": 3,
     "metadata": {},
     "output_type": "execute_result"
    }
   ],
   "source": [
    "import pandas as pd                        \n",
    "from pytrends.request import TrendReq\n",
    "pytrend = TrendReq()                              #呼叫GOOGLE趨勢API\n",
    "pytrend.build_payload(kw_list=[keyword,keyword2]) #給定關鍵字\n",
    "related_queries = pytrend.related_queries()       #發送query\n",
    "related_queries = related_queries.values()        #取值\n",
    "print(type(related_queries))                      #回傳dict_values的type\n",
    "related_queries"
   ]
  },
  {
   "cell_type": "code",
   "execution_count": 4,
   "metadata": {},
   "outputs": [
    {
     "name": "stdout",
     "output_type": "stream",
     "text": [
      "['         寵物 狗    ', '         狗 飼料     ', '               ', '         流浪 狗     ', '         財報 狗     ', '         領養 狗     ', '       酷 狗 音乐     ', '         貴賓 狗     ', '         紳士 狗     ', '         臘腸 狗     ', '      狗 狗 品種     ', '        狗 品種     ', '      狗 狗 餐廳     ', '        認養 狗     ', '        布丁 狗     ', '      狗 狗 認養     ', '          柴犬     ', '      呪術 廻 戦     ', '  呪術 廻 戦 狗 巻     ', '      狗 狗 洗澡     ', '    狗 鷲 タイムス     ', '        卡通 狗     ', '        狗 名字     ', '      狗 狗 名字     ', \"        狗 蛋糕      ''             \", '        呪術 廻 戦  ', '    呪術 廻 戦 狗 巻  ', '        全能 狗   ', '    狗 巻 棘 イラスト  ', '      狗 年 吉祥 話  ', '     一条 狗 的 使命   ', '          全能 狗   ', '    狗 一下 吃 到 飽   ', '      台新 黑 狗 卡   ', '        狗 巻 先輩   ', '     狗 巻 棘 声優   ', '  看 門 狗 自由 軍團   ', '         紳士 狗   ', '       狗 年 賀卡   ', '    一條 狗 的 使命   ', '       狗 带    ', '         半天 狗   ', '     狗 年    ', '     小 奶 狗 意思   ', '     狗 喝 水 意思   ', '     狗 年 犯 太歲   ', '  一条 狗 的 使命    ', '      半天 狗 コラ   ', '    全能 狗  價格   ', \"     小手 牵 小 狗   ''           \", '     黑 貓 宅急便    ', '          貓咪     ', '      黑 貓 宅配     ', '        貓 飼料     ', '      黑 貓 查詢     ', '        時空 貓     ', '        貓 領養     ', '        流浪 貓     ', '        招財 貓     ', '   穿越 時空 的 貓     ', '       貓 電影     ', '     貓 空 纜車     ', '       貓 罐頭     ', '       貓 尾巴     ', '    貓咪 大 戰爭     ', '   黑 貓 營業 所     ', '     黑 貓 運費     ', '       湯姆 貓     ', '       貓 品種     ', '       貓 薄荷     ', '       貓 耳朵     ', '       認養 貓     ', '         蝦皮     ', '   貓 貓      ', \"     貓       ''                    \", '            穿越 時空 的 貓  ', '             一起 學 貓 叫  ', '               天 貓 精靈  ', '              出 貓 特攻隊  ', '             學 貓 叫 歌詞  ', '          我們 一起 學 貓 叫  ', '   想 哭 的 我 戴 上 貓 的 面具   ', '               小 貓 影音   ', '               龍 貓 隧道   ', '             同居 人 是 貓   ', '        貓 下去 敦 北 俱樂部   ', '              房東 的 貓   ', '              貓 印 直播   ', '              貓 娘 樂園   ', '        穿越 時空 的 貓 攻略   ', '         天 貓 全球 官方 店   ', '             驚奇 隊長 貓   ', '              福 貓 團購   ', '       穿越 時空 的 貓 巴 哈   ', '              六合 黑 貓   ', '              天 貓 超市   ', '            黑 貓 魯 道夫   ', '         天下 貓 貓 一樣 貓   ', '              山 貓 直播   ', '             街 貓    ']\n"
     ]
    }
   ],
   "source": [
    "import re\n",
    "result_list = list(related_queries)                     #轉list\n",
    "result_string = \"\".join('%s' %id for id in result_list) #轉string以便處理字串\n",
    "r1 = '[a-zA-Z0-9'':\"\"}{,]'                              #要刪除的字符\n",
    "result_string=re.sub(r1, '', result_string)             #刪除國字以外的字符\n",
    "result_string=result_string.splitlines()                #以跳行為分割處，重組list\n",
    "result_string.pop(0)                                    #API傳回的index[0]必定為空，故移除\n",
    "print(result_string)"
   ]
  },
  {
   "cell_type": "code",
   "execution_count": 5,
   "metadata": {},
   "outputs": [
    {
     "name": "stdout",
     "output_type": "stream",
     "text": [
      "共找尋到： 100\n",
      "['寵物 狗', '狗 飼料', '', '流浪 狗', '財報 狗', '領養 狗', '酷 狗 音乐', '貴賓 狗', '紳士 狗', '臘腸 狗', '狗 狗 品種', '狗 品種', '狗 狗 餐廳', '認養 狗', '布丁 狗', '狗 狗 認養', '柴犬', '呪術 廻 戦', '呪術 廻 戦 狗 巻', '狗 狗 洗澡', '狗 鷲 タイムス', '卡通 狗', '狗 名字', '狗 狗 名字', \"狗 蛋糕      ''\", '呪術 廻 戦', '呪術 廻 戦 狗 巻', '全能 狗', '狗 巻 棘 イラスト', '狗 年 吉祥 話', '一条 狗 的 使命', '全能 狗', '狗 一下 吃 到 飽', '台新 黑 狗 卡', '狗 巻 先輩', '狗 巻 棘 声優', '看 門 狗 自由 軍團', '紳士 狗', '狗 年 賀卡', '一條 狗 的 使命', '狗 带', '半天 狗', '狗 年', '小 奶 狗 意思', '狗 喝 水 意思', '狗 年 犯 太歲', '一条 狗 的 使命', '半天 狗 コラ', '全能 狗  價格', \"小手 牵 小 狗   ''\", '黑 貓 宅急便', '貓咪', '黑 貓 宅配', '貓 飼料', '黑 貓 查詢', '時空 貓', '貓 領養', '流浪 貓', '招財 貓', '穿越 時空 的 貓', '貓 電影', '貓 空 纜車', '貓 罐頭', '貓 尾巴', '貓咪 大 戰爭', '黑 貓 營業 所', '黑 貓 運費', '湯姆 貓', '貓 品種', '貓 薄荷', '貓 耳朵', '認養 貓', '蝦皮', '貓 貓', \"貓       ''\", '穿越 時空 的 貓', '一起 學 貓 叫', '天 貓 精靈', '出 貓 特攻隊', '學 貓 叫 歌詞', '我們 一起 學 貓 叫', '想 哭 的 我 戴 上 貓 的 面具', '小 貓 影音', '龍 貓 隧道', '同居 人 是 貓', '貓 下去 敦 北 俱樂部', '房東 的 貓', '貓 印 直播', '貓 娘 樂園', '穿越 時空 的 貓 攻略', '天 貓 全球 官方 店', '驚奇 隊長 貓', '福 貓 團購', '穿越 時空 的 貓 巴 哈', '六合 黑 貓', '天 貓 超市', '黑 貓 魯 道夫', '天下 貓 貓 一樣 貓', '山 貓 直播']\n"
     ]
    }
   ],
   "source": [
    "# def not_empty(s):    \n",
    "#     return result_string and result_string.strip()\n",
    "\n",
    "# while '' in result_string:\n",
    "#     result_string.remove('')\n",
    "\n",
    "# for i in result_string:\n",
    "#     if i == '':\n",
    "#         result_string.remove(i)\n",
    "        \n",
    "# print(result_string)\n",
    "\n",
    "\n",
    "num=len(result_string)                \n",
    "print(\"共找尋到：\",num)\n",
    "\n",
    "final_list=[]\n",
    "i=0\n",
    "\n",
    "for abc in result_string:\n",
    "    i=i+1\n",
    "    if i>=num:\n",
    "        break\n",
    "    else:\n",
    "        final_list.append(result_string[i-1].strip())           #清除空白格\n",
    "#         print(result_string[i-1].strip())\n",
    "\n",
    "print(final_list)"
   ]
  },
  {
   "cell_type": "code",
   "execution_count": 6,
   "metadata": {},
   "outputs": [],
   "source": [
    "import nltk\n",
    "from wordcloud import WordCloud\n",
    "\n",
    "path = 'cloud_txt.txt'\n",
    "f = open(path, 'w',encoding='utf-8')     \n",
    "f.writelines(final_list)                       #寫入txt\n",
    "f.close()"
   ]
  },
  {
   "cell_type": "code",
   "execution_count": 11,
   "metadata": {},
   "outputs": [
    {
     "data": {
      "image/png": "[encoded data removed]",
      "text/plain": [
       "<IPython.core.display.Image object>"
      ]
     },
     "execution_count": 11,
     "metadata": {},
     "output_type": "execute_result"
    },
    {
     "name": "stdout",
     "output_type": "stream",
     "text": [
      "time: 984 ms (started: 2021-06-20 06:14:30 +08:00)\n"
     ]
    }
   ],
   "source": [
    "import nltk\n",
    "from wordcloud import WordCloud\n",
    "from IPython.display import Image\n",
    "      \n",
    "text = open('cloud_txt.txt', 'r', encoding='utf-8').read()     #讀取txt\n",
    "text = ' '.join(nltk.word_tokenize(text))\n",
    "cloud = WordCloud().generate(text)                             #製造雲\n",
    "cloud.to_file('output.png')                                    #儲存雲圖片\n",
    "Image(filename='output.png')"
   ]
  },
  {
   "cell_type": "code",
   "execution_count": 8,
   "metadata": {},
   "outputs": [
    {
     "name": "stdout",
     "output_type": "stream",
     "text": [
      "time: 0 ns (started: 2021-06-20 05:14:18 +08:00)\n"
     ]
    }
   ],
   "source": [
    "from selenium import webdriver\n",
    "from selenium.webdriver.common.keys import Keys\n",
    "import time\n",
    "driver = webdriver.Chrome()                                                    #開啟chrome模擬器\n",
    "driver.implicitly_wait(1)                                                      #time out\n",
    "url = 'https://tw.yahoo.com/'                                                  #指定URL\n",
    "driver.get(url)\n",
    "\n",
    "keyword = driver.find_element_by_css_selector(\"#header-search-input\")          #定位搜尋框\n",
    "keyword.send_keys(final_list[1])                                               #輸入關鍵字至搜尋框\n",
    "driver.find_element_by_css_selector(\"#header-desktop-search-button\").click()   #Submit\n",
    "time.sleep(1)\n",
    "%load_ext autotime"
   ]
  },
  {
   "cell_type": "code",
   "execution_count": 9,
   "metadata": {},
   "outputs": [
    {
     "name": "stdout",
     "output_type": "stream",
     "text": [
      "https://www.bing.com/aclick?ld=e8QZeck3qeEZiBSxdjQnlIpDVUCUwfMhnZ-Th_P6qGr64l3g0XaGP8aNssUX5nwVvpXCu91TQKTfvpFq626hWRSaRErTCgXKFYhrB8sFH-a2_LE1OOEdBN89NqjBCMkOKzZCeboQ7I33lbaFWPYBX-1oqKWKOHD3XeBu-FDqNmqsRJDckv&u=aHR0cHMlM2ElMmYlMmZ3d3cuZXRtYWxsLmNvbS50dyUyZmMzJTJmNzM0MzQlM2Z1dG1fc291cmNlJTNkeWFob28lMjZ1dG1fbWVkaXVtJTNkeXBtJTI2dXRtX2NhbXBhaWduJTNkeXBtX0EwNV8xX2hpbGxzJTI2bXNjbGtpZCUzZGMwNGNjYTUwNTZlNjE4MjA0NzVhYWE5ZTA4Y2U3Zjcy&rlid=c04cca5056e61820475aaa9e08ce7f72\n",
      "https://www.bing.com/aclick?ld=e8JQcctb4fysD8HStWOdMaHzVUCUxyzB7cvDZubwEeNbLOqhujfzPUJCoqMa30t3ZFOLucZOrzERK28RgkQgb4WjmCMyLhhEMh9MNCTNF0QeK9UFVhp3yyLg1aMwnVAxaVKt-iyprK4IYkfxDL44H8XF6nhUPvQdKXVo7RiiLD7y_yMTLG&u=aHR0cHMlM2ElMmYlMmZ3d3cubW9tb3Nob3AuY29tLnR3JTJmY2F0ZWdvcnklMmZMZ3JwQ2F0ZWdvcnkuanNwJTNmbF9jb2RlJTNkNDcwMDIwMDAwMCUyNm1kaXYlM2QxMDk5NjAwMDAwLWJ0XzBfOTk2XzE5LSUyNmN0eXBlJTNkQiUyNmJ0VHlwZSUzZEMlMjZvc20lM2R5YWhvb0t3JTI2dXRtX3NvdXJjZSUzZHlhaG9vJTI2dXRtX21lZGl1bSUzZGNwYzElMjZ1dG1fY29udGVudCUzZGtleXdvcmQ&rlid=113ac911096e14efb689a9df5746c36b\n",
      "https://www.bing.com/aclick?ld=e8skqRaiA1JxU1Ki8MqiIxKjVUCUzhLYdX75_f-7Ch2AzI4QuZ_WP-KktTVpkViPBLMrs_AvaIQjC8d4Y_mf-aOdBvObgezcI9_rxm290int194eh1fYrfWmZAGicBIlFQfN9tzwtx9jHSa9w8bC91c6pPDGKBryWPUwtTpWNpqU_fATMX&u=aHR0cHMlM2ElMmYlMmZ0dy5zZWVrd2ViLmNvbSUyZndzJTNmcSUzZCVlNyU4YiU5NyUyNTIwJWU5JWEzJWJjJWU2JTk2JTk5JTI2YXNpZCUzZHN3X3R3X2JhXzA0JTI2ZGUlM2RjJTI2YWMlM2QxNjg4NSUyNmNpZCUzZDQxMzMxODYxNyUyNmFpZCUzZDEzNDkxMDE3NDEwNzEwNTclMjZraWQlM2Rrd2QtODQzMTk0MDU2NDE5MDElM2Fsb2MtNDAlMjZsb2NhbGUlM2Rlbl9UVyUyNm1zY2xraWQlM2QwN2RkNjczYzZmZDIxNDc2OGFlODA3ZjIzMWZhMDBhYQ&rlid=07dd673c6fd214768ae807f231fa00aa\n",
      "https://tw.shopping.search.yahoo.com/search;_ylt=AwrtFOUoXs5gx08AtUlr1gt.;_ylu=Y29sbwN0dzEEcG9zAzEEdnRpZAMEc2VjA3Nj?p=%E7%8B%97+%E9%A3%BC%E6%96%99&fr=yfp-search-sb\n",
      "https://ecshweb.pchome.com.tw/search/v3.3/?q=%E7%8B%97%E9%A3%BC%E6%96%99\n",
      "https://www.momoshop.com.tw/category/LgrpCategory.jsp?l_code=4700200000\n",
      "https://24h.pchome.com.tw/store/DXBP09\n",
      "https://my-best.tw/115250\n",
      "https://24h.pchome.com.tw/store/DEBVAZ\n",
      "https://24h.pchome.com.tw/region/DEBV\n",
      "https://my-best.tw/52910/\n",
      "https://24h.pchome.com.tw/store/DEBV6N\n",
      "https://petsmao.nownews.com/20200204-99207\n",
      "https://24h.pchome.com.tw/store/DEBV6Q\n",
      "https://tw.images.search.yahoo.com/search/images;_ylt=AwrtFOUoXs5gx08A4Ulr1gt.;_ylu=Y29sbwN0dzEEcG9zAzIEdnRpZAMEc2VjA3Nj?p=%E7%8B%97+%E9%A3%BC%E6%96%99&fr=yfp-search-sb\n",
      "https://tw.video.search.yahoo.com/search/video;_ylt=AwrtFOUoXs5gx08A6Elr1gt.;_ylu=Y29sbwN0dzEEcG9zAzMEdnRpZAMEc2VjA3Nj?p=%E7%8B%97+%E9%A3%BC%E6%96%99&fr=yfp-search-sb\n",
      "https://www.bing.com/aclick?ld=e8QZeck3qeEZiBSxdjQnlIpDVUCUwfMhnZ-Th_P6qGr64l3g0XaGP8aNssUX5nwVvpXCu91TQKTfvpFq626hWRSaRErTCgXKFYhrB8sFH-a2_LE1OOEdBN89NqjBCMkOKzZCeboQ7I33lbaFWPYBX-1oqKWKOHD3XeBu-FDqNmqsRJDckv&u=aHR0cHMlM2ElMmYlMmZ3d3cuZXRtYWxsLmNvbS50dyUyZmMzJTJmNzM0MzQlM2Z1dG1fc291cmNlJTNkeWFob28lMjZ1dG1fbWVkaXVtJTNkeXBtJTI2dXRtX2NhbXBhaWduJTNkeXBtX0EwNV8xX2hpbGxzJTI2bXNjbGtpZCUzZGMwNGNjYTUwNTZlNjE4MjA0NzVhYWE5ZTA4Y2U3Zjcy&rlid=c04cca5056e61820475aaa9e08ce7f72\n",
      "https://www.bing.com/aclick?ld=e8JQcctb4fysD8HStWOdMaHzVUCUxyzB7cvDZubwEeNbLOqhujfzPUJCoqMa30t3ZFOLucZOrzERK28RgkQgb4WjmCMyLhhEMh9MNCTNF0QeK9UFVhp3yyLg1aMwnVAxaVKt-iyprK4IYkfxDL44H8XF6nhUPvQdKXVo7RiiLD7y_yMTLG&u=aHR0cHMlM2ElMmYlMmZ3d3cubW9tb3Nob3AuY29tLnR3JTJmY2F0ZWdvcnklMmZMZ3JwQ2F0ZWdvcnkuanNwJTNmbF9jb2RlJTNkNDcwMDIwMDAwMCUyNm1kaXYlM2QxMDk5NjAwMDAwLWJ0XzBfOTk2XzE5LSUyNmN0eXBlJTNkQiUyNmJ0VHlwZSUzZEMlMjZvc20lM2R5YWhvb0t3JTI2dXRtX3NvdXJjZSUzZHlhaG9vJTI2dXRtX21lZGl1bSUzZGNwYzElMjZ1dG1fY29udGVudCUzZGtleXdvcmQ&rlid=113ac911096e14efb689a9df5746c36b\n",
      "https://www.bing.com/aclick?ld=e8skqRaiA1JxU1Ki8MqiIxKjVUCUzhLYdX75_f-7Ch2AzI4QuZ_WP-KktTVpkViPBLMrs_AvaIQjC8d4Y_mf-aOdBvObgezcI9_rxm290int194eh1fYrfWmZAGicBIlFQfN9tzwtx9jHSa9w8bC91c6pPDGKBryWPUwtTpWNpqU_fATMX&u=aHR0cHMlM2ElMmYlMmZ0dy5zZWVrd2ViLmNvbSUyZndzJTNmcSUzZCVlNyU4YiU5NyUyNTIwJWU5JWEzJWJjJWU2JTk2JTk5JTI2YXNpZCUzZHN3X3R3X2JhXzA0JTI2ZGUlM2RjJTI2YWMlM2QxNjg4NSUyNmNpZCUzZDQxMzMxODYxNyUyNmFpZCUzZDEzNDkxMDE3NDEwNzEwNTclMjZraWQlM2Rrd2QtODQzMTk0MDU2NDE5MDElM2Fsb2MtNDAlMjZsb2NhbGUlM2Rlbl9UVyUyNm1zY2xraWQlM2QwN2RkNjczYzZmZDIxNDc2OGFlODA3ZjIzMWZhMDBhYQ&rlid=07dd673c6fd214768ae807f231fa00aa\n",
      "time: 2.5 s (started: 2021-06-20 05:14:18 +08:00)\n"
     ]
    }
   ],
   "source": [
    "list1=[]\n",
    "for link in driver.find_elements_by_xpath(\"//h3/a[@href]\"):                    #抓取搜尋頁面\n",
    "        a = link.get_attribute('href')                                         #抓取頁面的 URL_LINK\n",
    "        list1.append(a)\n",
    "        print(a)\n",
    "driver.quit()"
   ]
  },
  {
   "cell_type": "code",
   "execution_count": 10,
   "metadata": {},
   "outputs": [
    {
     "name": "stdout",
     "output_type": "stream",
     "text": [
      "廣告網站推薦： https://tw.shopping.search.yahoo.com/search;_ylt=AwrtFOUoXs5gx08AtUlr1gt.;_ylu=Y29sbwN0dzEEcG9zAzEEdnRpZAMEc2VjA3Nj?p=%E7%8B%97+%E9%A3%BC%E6%96%99&fr=yfp-search-sb\n"
     ]
    },
    {
     "data": {
      "text/html": [
       "<img src=\"https://s.yimg.com/zp/MerchandiseImages/D0CBE625E5-SP-8583590.jpg\" width=\"100\" height=\"100\"/>"
      ],
      "text/plain": [
       "<IPython.core.display.Image object>"
      ]
     },
     "metadata": {},
     "output_type": "display_data"
    },
    {
     "data": {
      "text/html": [
       "<img src=\"https://s.yimg.com/zp/MerchandiseImages/08CA2C1E23-SP-8515993.jpg\" width=\"100\" height=\"100\"/>"
      ],
      "text/plain": [
       "<IPython.core.display.Image object>"
      ]
     },
     "metadata": {},
     "output_type": "display_data"
    },
    {
     "data": {
      "text/html": [
       "<img src=\"https://s.yimg.com/zp/MerchandiseImages/e25d2ea15d-Gd-9138646.jpg\" width=\"100\" height=\"100\"/>"
      ],
      "text/plain": [
       "<IPython.core.display.Image object>"
      ]
     },
     "metadata": {},
     "output_type": "display_data"
    },
    {
     "data": {
      "text/html": [
       "<img src=\"https://s.yimg.com/zp/MerchandiseImages/9537991CCB-SP-8722551.jpg\" width=\"100\" height=\"100\"/>"
      ],
      "text/plain": [
       "<IPython.core.display.Image object>"
      ]
     },
     "metadata": {},
     "output_type": "display_data"
    },
    {
     "data": {
      "text/html": [
       "<img src=\"https://s.yimg.com/zp/MerchandiseImages/5D58390C70-SP-8516221.jpg\" width=\"100\" height=\"100\"/>"
      ],
      "text/plain": [
       "<IPython.core.display.Image object>"
      ]
     },
     "metadata": {},
     "output_type": "display_data"
    },
    {
     "data": {
      "text/html": [
       "<img src=\"https://s.yimg.com/zp/MerchandiseImages/468359265A-SP-8215916.jpg\" width=\"100\" height=\"100\"/>"
      ],
      "text/plain": [
       "<IPython.core.display.Image object>"
      ]
     },
     "metadata": {},
     "output_type": "display_data"
    },
    {
     "data": {
      "text/html": [
       "<img src=\"https://s.yimg.com/zp/MerchandiseImages/2521EA846D-SP-9697440.jpg\" width=\"100\" height=\"100\"/>"
      ],
      "text/plain": [
       "<IPython.core.display.Image object>"
      ]
     },
     "metadata": {},
     "output_type": "display_data"
    },
    {
     "data": {
      "text/html": [
       "<img src=\"https://s.yimg.com/zp/MerchandiseImages/0F4D87462A-SP-7952804.jpg\" width=\"100\" height=\"100\"/>"
      ],
      "text/plain": [
       "<IPython.core.display.Image object>"
      ]
     },
     "metadata": {},
     "output_type": "display_data"
    },
    {
     "data": {
      "text/html": [
       "<img src=\"https://s.yimg.com/zp/MerchandiseImages/1DB1AEFAD2-SP-7950577.jpg\" width=\"100\" height=\"100\"/>"
      ],
      "text/plain": [
       "<IPython.core.display.Image object>"
      ]
     },
     "metadata": {},
     "output_type": "display_data"
    },
    {
     "data": {
      "text/html": [
       "<img src=\"https://s.yimg.com/zp/MerchandiseImages/0B3631FC83-SP-8516063.jpg\" width=\"100\" height=\"100\"/>"
      ],
      "text/plain": [
       "<IPython.core.display.Image object>"
      ]
     },
     "metadata": {},
     "output_type": "display_data"
    },
    {
     "data": {
      "text/html": [
       "<img src=\"https://s.yimg.com/zp/MerchandiseImages/D066538206-SP-8833733.jpg\" width=\"100\" height=\"100\"/>"
      ],
      "text/plain": [
       "<IPython.core.display.Image object>"
      ]
     },
     "metadata": {},
     "output_type": "display_data"
    },
    {
     "data": {
      "text/html": [
       "<img src=\"https://s.yimg.com/zp/MerchandiseImages/2421AD8BC2-SP-8026590.jpg\" width=\"100\" height=\"100\"/>"
      ],
      "text/plain": [
       "<IPython.core.display.Image object>"
      ]
     },
     "metadata": {},
     "output_type": "display_data"
    },
    {
     "data": {
      "text/html": [
       "<img src=\"https://s.yimg.com/zp/MerchandiseImages/1FE6FF41DC-SP-8999846.jpg\" width=\"100\" height=\"100\"/>"
      ],
      "text/plain": [
       "<IPython.core.display.Image object>"
      ]
     },
     "metadata": {},
     "output_type": "display_data"
    },
    {
     "data": {
      "text/html": [
       "<img src=\"https://s.yimg.com/zp/MerchandiseImages/389F84F7B8-SP-8215885.jpg\" width=\"100\" height=\"100\"/>"
      ],
      "text/plain": [
       "<IPython.core.display.Image object>"
      ]
     },
     "metadata": {},
     "output_type": "display_data"
    },
    {
     "data": {
      "text/html": [
       "<img src=\"https://s.yimg.com/zp/MerchandiseImages/AF44A36615-SP-7987296.jpg\" width=\"100\" height=\"100\"/>"
      ],
      "text/plain": [
       "<IPython.core.display.Image object>"
      ]
     },
     "metadata": {},
     "output_type": "display_data"
    },
    {
     "data": {
      "text/html": [
       "<img src=\"https://s.yimg.com/zp/MerchandiseImages/7445FBDD1F-SP-8583714.jpg\" width=\"100\" height=\"100\"/>"
      ],
      "text/plain": [
       "<IPython.core.display.Image object>"
      ]
     },
     "metadata": {},
     "output_type": "display_data"
    },
    {
     "data": {
      "text/html": [
       "<img src=\"https://s.yimg.com/zp/MerchandiseImages/728CC84390-SP-7949223.jpg\" width=\"100\" height=\"100\"/>"
      ],
      "text/plain": [
       "<IPython.core.display.Image object>"
      ]
     },
     "metadata": {},
     "output_type": "display_data"
    },
    {
     "data": {
      "text/html": [
       "<img src=\"https://s.yimg.com/zp/MerchandiseImages/5D78095D9C-SP-7990140.jpg\" width=\"100\" height=\"100\"/>"
      ],
      "text/plain": [
       "<IPython.core.display.Image object>"
      ]
     },
     "metadata": {},
     "output_type": "display_data"
    },
    {
     "data": {
      "text/html": [
       "<img src=\"https://s.yimg.com/zp/MerchandiseImages/3BF9F42744-SP-9697461.jpg\" width=\"100\" height=\"100\"/>"
      ],
      "text/plain": [
       "<IPython.core.display.Image object>"
      ]
     },
     "metadata": {},
     "output_type": "display_data"
    },
    {
     "data": {
      "text/html": [
       "<img src=\"https://s.yimg.com/zp/MerchandiseImages/14437C0475-SP-8516277.jpg\" width=\"100\" height=\"100\"/>"
      ],
      "text/plain": [
       "<IPython.core.display.Image object>"
      ]
     },
     "metadata": {},
     "output_type": "display_data"
    },
    {
     "data": {
      "text/html": [
       "<img src=\"https://s.yimg.com/zp/MerchandiseImages/C6F4089765-SP-8514390.jpg\" width=\"100\" height=\"100\"/>"
      ],
      "text/plain": [
       "<IPython.core.display.Image object>"
      ]
     },
     "metadata": {},
     "output_type": "display_data"
    },
    {
     "data": {
      "text/html": [
       "<img src=\"https://s.yimg.com/zp/MerchandiseImages/2D0F7996B4-SP-8515761.jpg\" width=\"100\" height=\"100\"/>"
      ],
      "text/plain": [
       "<IPython.core.display.Image object>"
      ]
     },
     "metadata": {},
     "output_type": "display_data"
    },
    {
     "data": {
      "text/html": [
       "<img src=\"https://s.yimg.com/zp/MerchandiseImages/0FC2C16C6F-SP-9697432.jpg\" width=\"100\" height=\"100\"/>"
      ],
      "text/plain": [
       "<IPython.core.display.Image object>"
      ]
     },
     "metadata": {},
     "output_type": "display_data"
    },
    {
     "data": {
      "text/html": [
       "<img src=\"https://s.yimg.com/zp/MerchandiseImages/0C3CB4F78B-SP-8515514.jpg\" width=\"100\" height=\"100\"/>"
      ],
      "text/plain": [
       "<IPython.core.display.Image object>"
      ]
     },
     "metadata": {},
     "output_type": "display_data"
    },
    {
     "data": {
      "text/html": [
       "<img src=\"https://s.yimg.com/zp/MerchandiseImages/7E94329DCF-SP-7990106.jpg\" width=\"100\" height=\"100\"/>"
      ],
      "text/plain": [
       "<IPython.core.display.Image object>"
      ]
     },
     "metadata": {},
     "output_type": "display_data"
    },
    {
     "data": {
      "text/html": [
       "<img src=\"https://s.yimg.com/zp/MerchandiseImages/77C77E8D63-SP-8515706.jpg\" width=\"100\" height=\"100\"/>"
      ],
      "text/plain": [
       "<IPython.core.display.Image object>"
      ]
     },
     "metadata": {},
     "output_type": "display_data"
    },
    {
     "data": {
      "text/html": [
       "<img src=\"https://s.yimg.com/zp/MerchandiseImages/7C22967492-SP-8028173.jpg\" width=\"100\" height=\"100\"/>"
      ],
      "text/plain": [
       "<IPython.core.display.Image object>"
      ]
     },
     "metadata": {},
     "output_type": "display_data"
    },
    {
     "data": {
      "text/html": [
       "<img src=\"https://s.yimg.com/zp/images/ABDA261BF689B777938C0DF6E82008334EC88602\" width=\"100\" height=\"100\"/>"
      ],
      "text/plain": [
       "<IPython.core.display.Image object>"
      ]
     },
     "metadata": {},
     "output_type": "display_data"
    },
    {
     "data": {
      "text/html": [
       "<img src=\"https://s.yimg.com/zp/MerchandiseImages/B0CB198999-SP-7987662.jpg\" width=\"100\" height=\"100\"/>"
      ],
      "text/plain": [
       "<IPython.core.display.Image object>"
      ]
     },
     "metadata": {},
     "output_type": "display_data"
    },
    {
     "data": {
      "text/html": [
       "<img src=\"https://s.yimg.com/zp/MerchandiseImages/19DA99A5FE-SP-8583983.jpg\" width=\"100\" height=\"100\"/>"
      ],
      "text/plain": [
       "<IPython.core.display.Image object>"
      ]
     },
     "metadata": {},
     "output_type": "display_data"
    },
    {
     "data": {
      "text/html": [
       "<img src=\"https://s.yimg.com/zp/MerchandiseImages/98B3EAE3EB-SP-8584047.jpg\" width=\"100\" height=\"100\"/>"
      ],
      "text/plain": [
       "<IPython.core.display.Image object>"
      ]
     },
     "metadata": {},
     "output_type": "display_data"
    },
    {
     "data": {
      "text/html": [
       "<img src=\"https://s.yimg.com/zp/MerchandiseImages/DEFFC4EA64-SP-8584008.jpg\" width=\"100\" height=\"100\"/>"
      ],
      "text/plain": [
       "<IPython.core.display.Image object>"
      ]
     },
     "metadata": {},
     "output_type": "display_data"
    },
    {
     "data": {
      "text/html": [
       "<img src=\"https://s.yimg.com/zp/MerchandiseImages/5027CF9AA9-SP-8786566.jpg\" width=\"100\" height=\"100\"/>"
      ],
      "text/plain": [
       "<IPython.core.display.Image object>"
      ]
     },
     "metadata": {},
     "output_type": "display_data"
    },
    {
     "data": {
      "text/html": [
       "<img src=\"https://s.yimg.com/zp/MerchandiseImages/E28E424200-SP-8515616.jpg\" width=\"100\" height=\"100\"/>"
      ],
      "text/plain": [
       "<IPython.core.display.Image object>"
      ]
     },
     "metadata": {},
     "output_type": "display_data"
    },
    {
     "data": {
      "text/html": [
       "<img src=\"https://s.yimg.com/zp/MerchandiseImages/A002058692-SP-9697435.jpg\" width=\"100\" height=\"100\"/>"
      ],
      "text/plain": [
       "<IPython.core.display.Image object>"
      ]
     },
     "metadata": {},
     "output_type": "display_data"
    },
    {
     "data": {
      "text/html": [
       "<img src=\"https://s.yimg.com/zp/MerchandiseImages/BB54D54A11-SP-8472197.jpg\" width=\"100\" height=\"100\"/>"
      ],
      "text/plain": [
       "<IPython.core.display.Image object>"
      ]
     },
     "metadata": {},
     "output_type": "display_data"
    },
    {
     "data": {
      "text/html": [
       "<img src=\"https://s.yimg.com/zp/MerchandiseImages/D7416C0444-SP-8520680.jpg\" width=\"100\" height=\"100\"/>"
      ],
      "text/plain": [
       "<IPython.core.display.Image object>"
      ]
     },
     "metadata": {},
     "output_type": "display_data"
    },
    {
     "data": {
      "text/html": [
       "<img src=\"https://s.yimg.com/zp/MerchandiseImages/3485AA603B-SP-8515830.jpg\" width=\"100\" height=\"100\"/>"
      ],
      "text/plain": [
       "<IPython.core.display.Image object>"
      ]
     },
     "metadata": {},
     "output_type": "display_data"
    },
    {
     "data": {
      "text/html": [
       "<img src=\"https://s.yimg.com/zp/MerchandiseImages/82745555B2-SP-7987316.jpg\" width=\"100\" height=\"100\"/>"
      ],
      "text/plain": [
       "<IPython.core.display.Image object>"
      ]
     },
     "metadata": {},
     "output_type": "display_data"
    },
    {
     "data": {
      "text/html": [
       "<img src=\"https://s.yimg.com/zp/MerchandiseImages/2B9B25B649-SP-8583764.jpg\" width=\"100\" height=\"100\"/>"
      ],
      "text/plain": [
       "<IPython.core.display.Image object>"
      ]
     },
     "metadata": {},
     "output_type": "display_data"
    },
    {
     "data": {
      "text/html": [
       "<img src=\"https://s.yimg.com/zp/MerchandiseImages/85F3E5975D-SP-9697429.jpg\" width=\"100\" height=\"100\"/>"
      ],
      "text/plain": [
       "<IPython.core.display.Image object>"
      ]
     },
     "metadata": {},
     "output_type": "display_data"
    },
    {
     "data": {
      "text/html": [
       "<img src=\"https://s.yimg.com/zp/MerchandiseImages/161521A2EC-SP-7951994.jpg\" width=\"100\" height=\"100\"/>"
      ],
      "text/plain": [
       "<IPython.core.display.Image object>"
      ]
     },
     "metadata": {},
     "output_type": "display_data"
    },
    {
     "data": {
      "text/html": [
       "<img src=\"https://s.yimg.com/zp/MerchandiseImages/B7FECD117E-SP-8520960.jpg\" width=\"100\" height=\"100\"/>"
      ],
      "text/plain": [
       "<IPython.core.display.Image object>"
      ]
     },
     "metadata": {},
     "output_type": "display_data"
    },
    {
     "data": {
      "text/html": [
       "<img src=\"https://s.yimg.com/zp/MerchandiseImages/331B3160BE-SP-7952806.jpg\" width=\"100\" height=\"100\"/>"
      ],
      "text/plain": [
       "<IPython.core.display.Image object>"
      ]
     },
     "metadata": {},
     "output_type": "display_data"
    },
    {
     "data": {
      "text/html": [
       "<img src=\"https://s.yimg.com/zp/MerchandiseImages/6751C18B05-SP-8584210.jpg\" width=\"100\" height=\"100\"/>"
      ],
      "text/plain": [
       "<IPython.core.display.Image object>"
      ]
     },
     "metadata": {},
     "output_type": "display_data"
    },
    {
     "data": {
      "text/html": [
       "<img src=\"https://s.yimg.com/zp/MerchandiseImages/2C764A24CE-SP-8515913.jpg\" width=\"100\" height=\"100\"/>"
      ],
      "text/plain": [
       "<IPython.core.display.Image object>"
      ]
     },
     "metadata": {},
     "output_type": "display_data"
    },
    {
     "data": {
      "text/html": [
       "<img src=\"https://s.yimg.com/zp/MerchandiseImages/1CED5470E4-SP-9476730.jpg\" width=\"100\" height=\"100\"/>"
      ],
      "text/plain": [
       "<IPython.core.display.Image object>"
      ]
     },
     "metadata": {},
     "output_type": "display_data"
    },
    {
     "data": {
      "text/html": [
       "<img src=\"https://s.yimg.com/zp/MerchandiseImages/2B01D68F33-SP-9697426.jpg\" width=\"100\" height=\"100\"/>"
      ],
      "text/plain": [
       "<IPython.core.display.Image object>"
      ]
     },
     "metadata": {},
     "output_type": "display_data"
    },
    {
     "data": {
      "text/html": [
       "<img src=\"https://s.yimg.com/zp/MerchandiseImages/BB54D54A11-SP-8472153.jpg\" width=\"100\" height=\"100\"/>"
      ],
      "text/plain": [
       "<IPython.core.display.Image object>"
      ]
     },
     "metadata": {},
     "output_type": "display_data"
    },
    {
     "data": {
      "text/html": [
       "<img src=\"https://s.yimg.com/zp/MerchandiseImages/680B455AF1-SP-8027858.jpg\" width=\"100\" height=\"100\"/>"
      ],
      "text/plain": [
       "<IPython.core.display.Image object>"
      ]
     },
     "metadata": {},
     "output_type": "display_data"
    },
    {
     "data": {
      "text/html": [
       "<img src=\"https://s.yimg.com/zp/MerchandiseImages/FDA40B8B2C-SP-7986652.jpg\" width=\"100\" height=\"100\"/>"
      ],
      "text/plain": [
       "<IPython.core.display.Image object>"
      ]
     },
     "metadata": {},
     "output_type": "display_data"
    },
    {
     "data": {
      "text/html": [
       "<img src=\"https://s.yimg.com/zp/MerchandiseImages/D21EDB591F-SP-8514652.jpg\" width=\"100\" height=\"100\"/>"
      ],
      "text/plain": [
       "<IPython.core.display.Image object>"
      ]
     },
     "metadata": {},
     "output_type": "display_data"
    },
    {
     "data": {
      "text/html": [
       "<img src=\"https://s.yimg.com/zp/MerchandiseImages/D0C5B88930-SP-8028598.jpg\" width=\"100\" height=\"100\"/>"
      ],
      "text/plain": [
       "<IPython.core.display.Image object>"
      ]
     },
     "metadata": {},
     "output_type": "display_data"
    },
    {
     "data": {
      "text/html": [
       "<img src=\"https://s.yimg.com/zp/MerchandiseImages/468359265A-SP-8215941.jpg\" width=\"100\" height=\"100\"/>"
      ],
      "text/plain": [
       "<IPython.core.display.Image object>"
      ]
     },
     "metadata": {},
     "output_type": "display_data"
    },
    {
     "data": {
      "text/html": [
       "<img src=\"https://s.yimg.com/zp/MerchandiseImages/257EA7E88D-SP-8749225.jpg\" width=\"100\" height=\"100\"/>"
      ],
      "text/plain": [
       "<IPython.core.display.Image object>"
      ]
     },
     "metadata": {},
     "output_type": "display_data"
    },
    {
     "data": {
      "text/html": [
       "<img src=\"https://s.yimg.com/zp/MerchandiseImages/9DE3512095-SP-8390871.jpg\" width=\"100\" height=\"100\"/>"
      ],
      "text/plain": [
       "<IPython.core.display.Image object>"
      ]
     },
     "metadata": {},
     "output_type": "display_data"
    },
    {
     "data": {
      "text/html": [
       "<img src=\"https://s.yimg.com/zp/MerchandiseImages/94777424D4-SP-8520740.jpg\" width=\"100\" height=\"100\"/>"
      ],
      "text/plain": [
       "<IPython.core.display.Image object>"
      ]
     },
     "metadata": {},
     "output_type": "display_data"
    },
    {
     "data": {
      "text/html": [
       "<img src=\"https://s.yimg.com/zp/MerchandiseImages/9DE3512095-SP-8390857.jpg\" width=\"100\" height=\"100\"/>"
      ],
      "text/plain": [
       "<IPython.core.display.Image object>"
      ]
     },
     "metadata": {},
     "output_type": "display_data"
    },
    {
     "data": {
      "text/html": [
       "<img src=\"https://s.yimg.com/zp/MerchandiseImages/F066E24AB8-SP-8472232.jpg\" width=\"100\" height=\"100\"/>"
      ],
      "text/plain": [
       "<IPython.core.display.Image object>"
      ]
     },
     "metadata": {},
     "output_type": "display_data"
    },
    {
     "data": {
      "text/html": [
       "<img src=\"https://s.yimg.com/zp/MerchandiseImages/2A357FA5A7-SP-9697396.jpg\" width=\"100\" height=\"100\"/>"
      ],
      "text/plain": [
       "<IPython.core.display.Image object>"
      ]
     },
     "metadata": {},
     "output_type": "display_data"
    },
    {
     "name": "stdout",
     "output_type": "stream",
     "text": [
      "time: 578 ms (started: 2021-06-20 05:14:20 +08:00)\n"
     ]
    }
   ],
   "source": [
    "import requests\n",
    "import re\n",
    "from IPython.display import Image\n",
    "from bs4 import BeautifulSoup\n",
    "res=requests.get(list1[3])\n",
    "soup=BeautifulSoup(res.text)\n",
    "print(\"廣告網站推薦：\",list1[3])\n",
    "imglist = soup.find_all('img')\n",
    "lenth = len(imglist)  \n",
    "for i in range(lenth):\n",
    "    img=imglist[i].attrs['src']\n",
    "    remote_image = Image(url = img,width=100, height=100)    \n",
    "    display (remote_image)"
   ]
  },
  {
   "cell_type": "code",
   "execution_count": null,
   "metadata": {},
   "outputs": [],
   "source": []
  }
 ],
 "metadata": {
  "kernelspec": {
   "display_name": "Python 3",
   "language": "python",
   "name": "python3"
  },
  "language_info": {
   "codemirror_mode": {
    "name": "ipython",
    "version": 3
   },
   "file_extension": ".py",
   "mimetype": "text/x-python",
   "name": "python",
   "nbconvert_exporter": "python",
   "pygments_lexer": "ipython3",
   "version": "3.7.3"
  }
 },
 "nbformat": 4,
 "nbformat_minor": 2
}
