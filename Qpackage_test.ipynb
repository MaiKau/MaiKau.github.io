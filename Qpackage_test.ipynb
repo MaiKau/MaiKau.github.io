{
 "cells": [
  {
   "cell_type": "markdown",
   "id": "378a0fdc",
   "metadata": {},
   "source": [
    "<h1><center>pd to list</center></h1>"
   ]
  },
  {
   "cell_type": "code",
   "execution_count": 13,
   "id": "3749a8bb",
   "metadata": {},
   "outputs": [
    {
     "data": {
      "text/plain": [
       "[[1, 3, 5, 6], [1, 3, 5, 6]]"
      ]
     },
     "execution_count": 13,
     "metadata": {},
     "output_type": "execute_result"
    }
   ],
   "source": [
    "import pandas as pd\n",
    "df = pd.DataFrame({'a':[1,3,5,6]})\n",
    "a = df['a'].values.tolist()\n",
    "b = df['a'].values.tolist()\n",
    "list1=[]\n",
    "list1.append(a)\n",
    "list1.append(b)\n",
    "list1"
   ]
  },
  {
   "cell_type": "markdown",
   "id": "49585786",
   "metadata": {},
   "source": [
    "<h1><center>一個樣本 Kolmogorov-Smirnov 檢驗</center></h1>"
   ]
  },
  {
   "cell_type": "code",
   "execution_count": 14,
   "id": "b45f0291",
   "metadata": {},
   "outputs": [
    {
     "name": "stdout",
     "output_type": "stream",
     "text": [
      "KstestResult(statistic=0.9072498680518208, pvalue=1.0908062873170218e-103)\n",
      "結果是拒絕原假設。表明數據並非來自正態分佈 p<0.05\n"
     ]
    }
   ],
   "source": [
    "from numpy.random import seed\n",
    "from numpy.random import poisson\n",
    "from scipy.stats import kstest\n",
    "\n",
    "seed(0)\n",
    "data = poisson(5, 100)\n",
    "b= kstest(data, 'norm')\n",
    "print(b)\n",
    "\n",
    "if b[1]<0.05:\n",
    "    print(\"結果是拒絕原假設。表明數據並非來自正態分佈 p<0.05\")\n",
    "else:\n",
    "    print(\"結果是接受原假設。表明數據集來自正態分佈 p>=0.05\")"
   ]
  },
  {
   "cell_type": "markdown",
   "id": "127acf8c",
   "metadata": {},
   "source": [
    "<h1><center>兩個樣本 Kolmogorov-Smirnov 檢驗</center></h1>"
   ]
  },
  {
   "cell_type": "code",
   "execution_count": 15,
   "id": "bb4f5106",
   "metadata": {},
   "outputs": [
    {
     "name": "stdout",
     "output_type": "stream",
     "text": [
      "KstestResult(statistic=0.99, pvalue=4.417521386399011e-57)\n",
      "KstestResult(statistic=0.0, pvalue=1.0)\n",
      "結果是拒絕原假設。表明這兩個樣本數據集並非來自同一個分佈 p<0.05\n",
      "結果是接受原假設。表明這兩個樣本數據集來自同一個分佈 p>=0.05\n"
     ]
    }
   ],
   "source": [
    "from numpy.random import seed\n",
    "from numpy.random import randn\n",
    "from numpy.random import lognormal\n",
    "from scipy.stats import ks_2samp \n",
    "import numpy as np\n",
    "seed(0) \n",
    "data1 = randn(100) \n",
    "data2 = lognormal(3, 1, 100)\n",
    "a= ks_2samp(data1, data2) \n",
    "b= ks_2samp(data1, data1) \n",
    "print(a)\n",
    "print(b)\n",
    "\n",
    "if a[1]<0.05:\n",
    "    print(\"結果是拒絕原假設。表明這兩個樣本數據集並非來自同一個分佈 p<0.05\")\n",
    "else:\n",
    "    print(\"結果是接受原假設。表明這兩個樣本數據集來自同一個分佈 p>=0.05\")\n",
    "\n",
    "if b[1]<0.05:\n",
    "    print(\"結果是拒絕原假設。表明這兩個樣本數據集並非來自同一個分佈 p<0.05\")\n",
    "else:\n",
    "    print(\"結果是接受原假設。表明這兩個樣本數據集來自同一個分佈 p>=0.05\")"
   ]
  },
  {
   "cell_type": "markdown",
   "id": "007bfdec",
   "metadata": {},
   "source": [
    "<h1><center>Shapiro-Wilk</center></h1>"
   ]
  },
  {
   "cell_type": "code",
   "execution_count": 16,
   "id": "29c7c790",
   "metadata": {},
   "outputs": [
    {
     "name": "stdout",
     "output_type": "stream",
     "text": [
      "ShapiroResult(statistic=0.9926937818527222, pvalue=0.8689165711402893)\n",
      "ShapiroResult(statistic=0.95243901014328, pvalue=0.0012052275706082582)\n",
      "結果是接受原假設。表明數據是來自正態分佈 p>=0.05\n",
      "結果是拒絕原假設。表明數據並非來自正態分佈 p<0.05\n"
     ]
    }
   ],
   "source": [
    "from numpy.random import seed\n",
    "from numpy.random import randn\n",
    "from scipy.stats import shapiro\n",
    "\n",
    "seed(0)\n",
    "data1 = randn(100)\n",
    "data2 = poisson(5, 100)\n",
    "a = shapiro(data1)\n",
    "b = shapiro(data2)\n",
    "\n",
    "print(a)\n",
    "print(b)\n",
    "\n",
    "if a[1]<0.05:\n",
    "    print(\"結果是拒絕原假設。表明數據並非來自正態分佈 p<0.05\")\n",
    "else:\n",
    "    print(\"結果是接受原假設。表明數據是來自正態分佈 p>=0.05\")\n",
    "    \n",
    "if b[1]<0.05:\n",
    "    print(\"結果是拒絕原假設。表明數據並非來自正態分佈 p<0.05\")\n",
    "else:\n",
    "    print(\"結果是接受原假設。表明數據是來自正態分佈 p>=0.05\")"
   ]
  },
  {
   "cell_type": "markdown",
   "id": "385c5ea1",
   "metadata": {},
   "source": [
    "<h1><center>Chi-Square Test</center></h1>"
   ]
  },
  {
   "cell_type": "code",
   "execution_count": 17,
   "id": "43475201",
   "metadata": {},
   "outputs": [
    {
     "name": "stdout",
     "output_type": "stream",
     "text": [
      "統計量 0.8640353908896108 p-value 0.6491978887380976 自由度 2 預期值 [[115.   92.5  42.5]\n",
      " [115.   92.5  42.5]]\n"
     ]
    }
   ],
   "source": [
    "import scipy.stats as stats\n",
    "data = [[120, 90, 40],\n",
    "        [110, 95, 45]]\n",
    "\n",
    "a = stats.chi2_contingency(data)\n",
    "\n",
    "print(\"統計量\",a[0],\"p-value\",a[1],\"自由度\",a[2],\"預期值\",a[3])"
   ]
  },
  {
   "cell_type": "markdown",
   "id": "3d094493",
   "metadata": {},
   "source": [
    "<h1><center>Outlier</center></h1>"
   ]
  },
  {
   "cell_type": "code",
   "execution_count": 26,
   "id": "51d16d16",
   "metadata": {},
   "outputs": [],
   "source": [
    "import numpy as np\n",
    "data = [-20, 14, 19, 20, 22, 24, 26, 27, 30, 30, 31, 36, 38, 44, 47, 100]\n",
    "data = np.array(data)\n",
    "\n",
    "std = np.std(data)\n",
    "Q3, Q1 = np.percentile(data, [75 ,25])\n",
    "IQR = Q3 - Q1\n",
    "\n",
    "top = Q3 + 1.5 * IQR \n",
    "down = Q1 - 1.5 * IQR\n",
    "std_3 = std*3"
   ]
  },
  {
   "cell_type": "code",
   "execution_count": 36,
   "id": "47ebb103",
   "metadata": {},
   "outputs": [
    {
     "data": {
      "text/plain": [
       "'12.5%'"
      ]
     },
     "execution_count": 36,
     "metadata": {},
     "output_type": "execute_result"
    }
   ],
   "source": [
    "persent = sum((i > top) | (i < down) for i in data)/len(data) *100\n",
    "str(persent)+'%'"
   ]
  },
  {
   "cell_type": "code",
   "execution_count": null,
   "id": "dab4bfde",
   "metadata": {},
   "outputs": [],
   "source": []
  }
 ],
 "metadata": {
  "kernelspec": {
   "display_name": "Python 3 (ipykernel)",
   "language": "python",
   "name": "python3"
  },
  "language_info": {
   "codemirror_mode": {
    "name": "ipython",
    "version": 3
   },
   "file_extension": ".py",
   "mimetype": "text/x-python",
   "name": "python",
   "nbconvert_exporter": "python",
   "pygments_lexer": "ipython3",
   "version": "3.9.7"
  }
 },
 "nbformat": 4,
 "nbformat_minor": 5
}
