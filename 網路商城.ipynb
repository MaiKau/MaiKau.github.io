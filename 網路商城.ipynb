{
 "cells": [
  {
   "cell_type": "code",
   "execution_count": 7,
   "metadata": {
    "scrolled": false
   },
   "outputs": [
    {
     "data": {
      "text/html": [
       "<img src=\"https://images.pcone.com.tw/uploads/product_image/7830930/89f178dd55e2159737bff350fb98530b/09efb06b57c90243e0d98eae624f66a5.jpg\" width=\"100\" height=\"100\"/>"
      ],
      "text/plain": [
       "<IPython.core.display.Image object>"
      ]
     },
     "metadata": {},
     "output_type": "display_data"
    },
    {
     "name": "stdout",
     "output_type": "stream",
     "text": [
      "商品名稱:網紅夢幻星空手錶(送電池/磁吸錶扣)\n",
      "商品特價:無\n",
      "商品折扣:無\n",
      "❤:53\n",
      "------------------------------------\n"
     ]
    },
    {
     "data": {
      "text/html": [
       "<img src=\"https://images.pcone.com.tw/uploads/product_image/7586276/202d9fdcdbd7925cdb05a3c77d46214a/8ffa7c69c124acc3fdeb288dcf255f8a.jpg\" width=\"100\" height=\"100\"/>"
      ],
      "text/plain": [
       "<IPython.core.display.Image object>"
      ]
     },
     "metadata": {},
     "output_type": "display_data"
    },
    {
     "name": "stdout",
     "output_type": "stream",
     "text": [
      "商品名稱:長江PHONE✨多功能藍牙通話智慧手錶\n",
      "商品特價:無\n",
      "商品折扣:無\n",
      "❤:58\n",
      "------------------------------------\n"
     ]
    },
    {
     "data": {
      "text/html": [
       "<img src=\"https://images.pcone.com.tw/uploads/product_image/2516000/547db094b2bfbefde60720da679110ff/7428edb1d044eef25b330774c8d32030.jpg\" width=\"100\" height=\"100\"/>"
      ],
      "text/plain": [
       "<IPython.core.display.Image object>"
      ]
     },
     "metadata": {},
     "output_type": "display_data"
    },
    {
     "name": "stdout",
     "output_type": "stream",
     "text": [
      "商品名稱:50米夜光防水電子錶\n",
      "商品特價:無\n",
      "商品折扣:無\n",
      "❤:29\n",
      "------------------------------------\n"
     ]
    },
    {
     "data": {
      "text/html": [
       "<img src=\"https://images.pcone.com.tw/uploads/product_image/4894605/75028415ec0cc0e3fce3f69ffa0ac44c/8a0bae7ad6c3cb44be5bd38d48759225.jpg\" width=\"100\" height=\"100\"/>"
      ],
      "text/plain": [
       "<IPython.core.display.Image object>"
      ]
     },
     "metadata": {},
     "output_type": "display_data"
    },
    {
     "name": "stdout",
     "output_type": "stream",
     "text": [
      "商品名稱:韓國時尚潮牌原宿風男女學生手錶【送釘子手環 (採隨機出貨)】\n",
      "商品特價:228\n",
      "商品折扣:5.8折\n",
      "❤:3\n",
      "------------------------------------\n"
     ]
    },
    {
     "data": {
      "text/html": [
       "<img src=\"https://images.pcone.com.tw/uploads/product_image/8910571/209436393d5313d9e9a3c425adc192f3/c0fae32daf462fa2ec88631e4790ccb9.jpg\" width=\"100\" height=\"100\"/>"
      ],
      "text/plain": [
       "<IPython.core.display.Image object>"
      ]
     },
     "metadata": {},
     "output_type": "display_data"
    },
    {
     "name": "stdout",
     "output_type": "stream",
     "text": [
      "商品名稱:CASIO 卡西歐 極簡時尚指針中性錶MQ-24系列\n",
      "商品特價:390\n",
      "商品折扣:6折\n",
      "❤:2\n",
      "------------------------------------\n"
     ]
    },
    {
     "data": {
      "text/html": [
       "<img src=\"https://images.pcone.com.tw/uploads/product_image/8910571/f6e06db8f15860654ac9f1867ff9623a/6f5df3b817efd5b5f7140f37c30c077a.jpg\" width=\"100\" height=\"100\"/>"
      ],
      "text/plain": [
       "<IPython.core.display.Image object>"
      ]
     },
     "metadata": {},
     "output_type": "display_data"
    },
    {
     "name": "stdout",
     "output_type": "stream",
     "text": [
      "商品名稱:馬卡龍數字學生手錶 DW-4118\n",
      "商品特價:180\n",
      "商品折扣:6折\n",
      "❤:4\n",
      "------------------------------------\n"
     ]
    },
    {
     "data": {
      "text/html": [
       "<img src=\"https://images.pcone.com.tw/uploads/product_image/5007591/b40e2fb4acd43cdcdd7dfa7de6cf8d75/139f93ef9e7be298e66ff1844303cd93.jpg\" width=\"100\" height=\"100\"/>"
      ],
      "text/plain": [
       "<IPython.core.display.Image object>"
      ]
     },
     "metadata": {},
     "output_type": "display_data"
    },
    {
     "name": "stdout",
     "output_type": "stream",
     "text": [
      "商品名稱:TEVISE水鬼系列 男士防水石英手錶(專屬禮盒)\n",
      "商品特價:無\n",
      "商品折扣:無\n",
      "❤:3\n",
      "------------------------------------\n"
     ]
    },
    {
     "data": {
      "text/html": [
       "<img src=\"https://images.pcone.com.tw/uploads/product_image/0409889/3c9574c88e0f7693d3831eea6d281e36/8085f84845e6b3a172ce194769f31947.jpg\" width=\"100\" height=\"100\"/>"
      ],
      "text/plain": [
       "<IPython.core.display.Image object>"
      ]
     },
     "metadata": {},
     "output_type": "display_data"
    },
    {
     "name": "stdout",
     "output_type": "stream",
     "text": [
      "商品名稱:《貳次方》 鏡面LED手環錶 果凍錶 運動手錶 電子錶 兒童手錶 運動錶\n",
      "商品特價:無\n",
      "商品折扣:無\n",
      "❤:5\n",
      "------------------------------------\n"
     ]
    },
    {
     "data": {
      "text/html": [
       "<img src=\"https://images.pcone.com.tw/uploads/product_image/2516000/c761b203667a7d5acb641a10a98fa053/bdaa33e92da1078669f4655b75bbfd97.jpg\" width=\"100\" height=\"100\"/>"
      ],
      "text/plain": [
       "<IPython.core.display.Image object>"
      ]
     },
     "metadata": {},
     "output_type": "display_data"
    },
    {
     "name": "stdout",
     "output_type": "stream",
     "text": [
      "商品名稱:50米夜光防水電子錶 手錶 男錶 女錶 學生錶 兒童錶 運動手錶 潛水錶\n",
      "商品特價:250\n",
      "商品折扣:3.6折\n",
      "❤:8\n",
      "------------------------------------\n"
     ]
    },
    {
     "data": {
      "text/html": [
       "<img src=\"https://images.pcone.com.tw/uploads/product_image/8910571/1949bb23474d490555415d984ea5b5e8/d5a967e7cba6677421e06736fd20c801.jpg\" width=\"100\" height=\"100\"/>"
      ],
      "text/plain": [
       "<IPython.core.display.Image object>"
      ]
     },
     "metadata": {},
     "output_type": "display_data"
    },
    {
     "name": "stdout",
     "output_type": "stream",
     "text": [
      "商品名稱:TEVISE特威斯 T801石英水鬼不鏽鋼手錶\n",
      "商品特價:無\n",
      "商品折扣:無\n",
      "❤:7\n",
      "------------------------------------\n"
     ]
    }
   ],
   "source": [
    "import requests\n",
    "import re\n",
    "from IPython.display import Image\n",
    "from bs4 import BeautifulSoup\n",
    "res=requests.get(\"https://www.pcone.com.tw/search?q=手錶#ref=d_header_search_userinput\")\n",
    "soup=BeautifulSoup(res.text)\n",
    "divs=soup.find_all('a',{\"data-app\":\"go-product\"})\n",
    "\n",
    "i=0\n",
    "for abc in divs:                                                  #loop\n",
    "    \n",
    "    i=i+1\n",
    "    if i>10:\n",
    "        break\n",
    "    \n",
    "    else:\n",
    "        img = abc.find('div','content')['data-bg']\n",
    "    \n",
    "        remote_image = Image(url = img,width=100, height=100)    \n",
    "        display (remote_image)\n",
    "\n",
    "\n",
    "        print (\"商品名稱:\"+abc.find('div','name limit-2-line').string)    \n",
    "        if abc.find('span','sale'):\n",
    "            print (\"商品特價:\"+abc.find('span','sale').string)    \n",
    "        else:print(\"商品特價:無\")    \n",
    "        if abc.find('div','discount'):       \n",
    "            print (\"商品折扣:\"+abc.find('div','discount').string)\n",
    "        else:print(\"商品折扣:無\")\n",
    "        if abc.find('span','count'):\n",
    "            print(\"❤:\"+abc.find('span','count').string)             #Condition\n",
    "            print(\"------------------------------------\")\n",
    "        else:print(\"❤:\"+\"\\n------------------------------------\")\n",
    "        \n",
    "    \n",
    "    \n",
    "        \n",
    "\n",
    "\n",
    "\n",
    "\n",
    "\n",
    "    \n",
    "\n",
    "    "
   ]
  },
  {
   "cell_type": "code",
   "execution_count": 9,
   "metadata": {
    "scrolled": true
   },
   "outputs": [
    {
     "name": "stdout",
     "output_type": "stream",
     "text": [
      "True\n",
      "False\n",
      "CASIO 簡單生活風時間手錶\n",
      "['CASIO', '簡單生活風時間手錶']\n",
      "['C', 'A', 'S', 'I', 'O', ' ', '簡', '單', '生', '活', '風', '時', '間', '手', '錶']\n",
      "677.0833333333334\n",
      " 單活時手\n",
      "貓咪 價格是 888 1折 優惠後價格為 $3.00.\n",
      "小狗 價格是 666 9.9折 優惠後價格為 $23.00.\n"
     ]
    }
   ],
   "source": [
    "exercise1=abc.find('span','sale').string\n",
    "        \n",
    "exercise2=abc.find('div','name limit-2-line').string\n",
    "\n",
    "exercise3List = list(exercise2)      #Lists\n",
    "\n",
    "print(isinstance(exercise1, str))    #print\n",
    "print(isinstance(exercise1, int))    #Variable and Types\n",
    "print(exercise2)                     \n",
    "exercise3Split=exercise2.split()     #split\n",
    "print(exercise3Split)\n",
    "print(exercise3List)\n",
    "\n",
    "discount=abc.find('div','discount').string\n",
    "discount_num=re.findall(r\"\\d+\\.?\\d*\",discount) #去文字\n",
    "discount_num= float(discount_num[0])    #list → float\n",
    "print(int(exercise1)/(discount_num/10)) #Basic Operators\n",
    "print(exercise2[5::2])  #Basic String Operations\n",
    "\n",
    "heart=abc.find('span','count').string\n",
    "\n",
    "class product:                                       #Classes and objects                    \n",
    "    name = exercise2\n",
    "    price = exercise1\n",
    "    discount = discount\n",
    "    heart_num = heart\n",
    "    def description(self):\n",
    "        desc_str = \"%s 價格是 %s %s 優惠後價格為 $%.2f.\" % (self.name, self.price, self.discount, self.heart_num)\n",
    "        return desc_str\n",
    "pds1 = product()\n",
    "pds1.name = \"貓咪\"\n",
    "pds1.price = \"888\"\n",
    "pds1.discount = \"1折\"\n",
    "pds1.heart_num = 3\n",
    "\n",
    "pds2 = product()\n",
    "pds2.name = \"小狗\"\n",
    "pds2.price = \"666\"\n",
    "pds2.discount = \"9.9折\"\n",
    "pds2.heart_num = 23\n",
    "\n",
    "print(pds1.description())\n",
    "print(pds2.description())"
   ]
  }
 ],
 "metadata": {
  "kernelspec": {
   "display_name": "Python 3",
   "language": "python",
   "name": "python3"
  },
  "language_info": {
   "codemirror_mode": {
    "name": "ipython",
    "version": 3
   },
   "file_extension": ".py",
   "mimetype": "text/x-python",
   "name": "python",
   "nbconvert_exporter": "python",
   "pygments_lexer": "ipython3",
   "version": "3.7.3"
  }
 },
 "nbformat": 4,
 "nbformat_minor": 2
}
