{
 "cells": [
  {
   "cell_type": "code",
   "execution_count": null,
   "id": "6795d9e9",
   "metadata": {},
   "outputs": [],
   "source": [
    "import subprocess\n",
    "\n",
    "bat_path = r'D:\\\\NBCT_API\\\\外掛\\\\backup\\\\install_backup_task.bat'\n",
    "exe_path = r'D:\\\\NBCT_API\\\\外掛\\\\backup\\\\backup.exe'\n",
    "\n",
    "subprocess.run([\n",
    "    'powershell', '-Command',\n",
    "    f'Start-Process \"{bat_path}\" -Verb RunAs'\n",
    "])\n",
    "\n",
    "subprocess.run([\n",
    "    'powershell', '-Command',\n",
    "    f'Start-Process \"{exe_path}\" -Verb RunAs'\n",
    "])"
   ]
  }
 ],
 "metadata": {
  "kernelspec": {
   "display_name": "Python 3 (ipykernel)",
   "language": "python",
   "name": "python3"
  },
  "language_info": {
   "codemirror_mode": {
    "name": "ipython",
    "version": 3
   },
   "file_extension": ".py",
   "mimetype": "text/x-python",
   "name": "python",
   "nbconvert_exporter": "python",
   "pygments_lexer": "ipython3",
   "version": "3.9.12"
  }
 },
 "nbformat": 4,
 "nbformat_minor": 5
}
