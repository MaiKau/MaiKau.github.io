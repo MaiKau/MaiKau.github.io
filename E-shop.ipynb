{
 "cells": [
  {
   "cell_type": "code",
   "execution_count": 184,
   "metadata": {
    "scrolled": false
   },
   "outputs": [
    {
     "data": {
      "text/html": [
       "<img src=\"https://images.pcone.com.tw/uploads/product_image/7830930/89f178dd55e2159737bff350fb98530b/09efb06b57c90243e0d98eae624f66a5.jpg\" width=\"100\" height=\"100\"/>"
      ],
      "text/plain": [
       "<IPython.core.display.Image object>"
      ]
     },
     "metadata": {},
     "output_type": "display_data"
    },
    {
     "name": "stdout",
     "output_type": "stream",
     "text": [
      "商品名稱:網紅夢幻星空手錶(送電池/磁吸錶扣)\n",
      "商品特價:無\n",
      "商品折扣:無\n",
      "❤:53\n",
      "------------------------------------\n"
     ]
    },
    {
     "data": {
      "text/html": [
       "<img src=\"https://images.pcone.com.tw/uploads/product_image/7586276/202d9fdcdbd7925cdb05a3c77d46214a/8ffa7c69c124acc3fdeb288dcf255f8a.jpg\" width=\"100\" height=\"100\"/>"
      ],
      "text/plain": [
       "<IPython.core.display.Image object>"
      ]
     },
     "metadata": {},
     "output_type": "display_data"
    },
    {
     "name": "stdout",
     "output_type": "stream",
     "text": [
      "商品名稱:長江PHONE✨多功能藍牙通話智慧手錶\n",
      "商品特價:無\n",
      "商品折扣:無\n",
      "❤:58\n",
      "------------------------------------\n"
     ]
    },
    {
     "data": {
      "text/html": [
       "<img src=\"https://images.pcone.com.tw/uploads/product_image/2516000/547db094b2bfbefde60720da679110ff/7428edb1d044eef25b330774c8d32030.jpg\" width=\"100\" height=\"100\"/>"
      ],
      "text/plain": [
       "<IPython.core.display.Image object>"
      ]
     },
     "metadata": {},
     "output_type": "display_data"
    },
    {
     "name": "stdout",
     "output_type": "stream",
     "text": [
      "商品名稱:50米夜光防水電子錶\n",
      "商品特價:無\n",
      "商品折扣:無\n",
      "❤:29\n",
      "------------------------------------\n"
     ]
    },
    {
     "data": {
      "text/html": [
       "<img src=\"https://images.pcone.com.tw/uploads/product_image/4894605/75028415ec0cc0e3fce3f69ffa0ac44c/8a0bae7ad6c3cb44be5bd38d48759225.jpg\" width=\"100\" height=\"100\"/>"
      ],
      "text/plain": [
       "<IPython.core.display.Image object>"
      ]
     },
     "metadata": {},
     "output_type": "display_data"
    },
    {
     "name": "stdout",
     "output_type": "stream",
     "text": [
      "商品名稱:韓國時尚潮牌原宿風男女學生手錶【送釘子手環 (採隨機出貨)】\n",
      "商品特價:228\n",
      "商品折扣:5.8折\n",
      "❤:3\n",
      "------------------------------------\n"
     ]
    },
    {
     "data": {
      "text/html": [
       "<img src=\"https://images.pcone.com.tw/uploads/product_image/8910571/209436393d5313d9e9a3c425adc192f3/c0fae32daf462fa2ec88631e4790ccb9.jpg\" width=\"100\" height=\"100\"/>"
      ],
      "text/plain": [
       "<IPython.core.display.Image object>"
      ]
     },
     "metadata": {},
     "output_type": "display_data"
    },
    {
     "name": "stdout",
     "output_type": "stream",
     "text": [
      "商品名稱:CASIO 卡西歐 極簡時尚指針中性錶MQ-24系列\n",
      "商品特價:390\n",
      "商品折扣:6折\n",
      "❤:2\n",
      "------------------------------------\n"
     ]
    },
    {
     "data": {
      "text/html": [
       "<img src=\"https://images.pcone.com.tw/uploads/product_image/8910571/f6e06db8f15860654ac9f1867ff9623a/6f5df3b817efd5b5f7140f37c30c077a.jpg\" width=\"100\" height=\"100\"/>"
      ],
      "text/plain": [
       "<IPython.core.display.Image object>"
      ]
     },
     "metadata": {},
     "output_type": "display_data"
    },
    {
     "name": "stdout",
     "output_type": "stream",
     "text": [
      "商品名稱:馬卡龍數字學生手錶 DW-4118\n",
      "商品特價:180\n",
      "商品折扣:6折\n",
      "❤:4\n",
      "------------------------------------\n"
     ]
    },
    {
     "data": {
      "text/html": [
       "<img src=\"https://images.pcone.com.tw/uploads/product_image/5007591/b40e2fb4acd43cdcdd7dfa7de6cf8d75/139f93ef9e7be298e66ff1844303cd93.jpg\" width=\"100\" height=\"100\"/>"
      ],
      "text/plain": [
       "<IPython.core.display.Image object>"
      ]
     },
     "metadata": {},
     "output_type": "display_data"
    },
    {
     "name": "stdout",
     "output_type": "stream",
     "text": [
      "商品名稱:TEVISE水鬼系列 男士防水石英手錶(專屬禮盒)\n",
      "商品特價:無\n",
      "商品折扣:無\n",
      "❤:3\n",
      "------------------------------------\n"
     ]
    },
    {
     "data": {
      "text/html": [
       "<img src=\"https://images.pcone.com.tw/uploads/product_image/0409889/3c9574c88e0f7693d3831eea6d281e36/8085f84845e6b3a172ce194769f31947.jpg\" width=\"100\" height=\"100\"/>"
      ],
      "text/plain": [
       "<IPython.core.display.Image object>"
      ]
     },
     "metadata": {},
     "output_type": "display_data"
    },
    {
     "name": "stdout",
     "output_type": "stream",
     "text": [
      "商品名稱:《貳次方》 鏡面LED手環錶 果凍錶 運動手錶 電子錶 兒童手錶 運動錶\n",
      "商品特價:無\n",
      "商品折扣:無\n",
      "❤:5\n",
      "------------------------------------\n"
     ]
    },
    {
     "data": {
      "text/html": [
       "<img src=\"https://images.pcone.com.tw/uploads/product_image/2516000/c761b203667a7d5acb641a10a98fa053/bdaa33e92da1078669f4655b75bbfd97.jpg\" width=\"100\" height=\"100\"/>"
      ],
      "text/plain": [
       "<IPython.core.display.Image object>"
      ]
     },
     "metadata": {},
     "output_type": "display_data"
    },
    {
     "name": "stdout",
     "output_type": "stream",
     "text": [
      "商品名稱:50米夜光防水電子錶 手錶 男錶 女錶 學生錶 兒童錶 運動手錶 潛水錶\n",
      "商品特價:250\n",
      "商品折扣:3.6折\n",
      "❤:8\n",
      "------------------------------------\n"
     ]
    },
    {
     "data": {
      "text/html": [
       "<img src=\"https://images.pcone.com.tw/uploads/product_image/8910571/1949bb23474d490555415d984ea5b5e8/d5a967e7cba6677421e06736fd20c801.jpg\" width=\"100\" height=\"100\"/>"
      ],
      "text/plain": [
       "<IPython.core.display.Image object>"
      ]
     },
     "metadata": {},
     "output_type": "display_data"
    },
    {
     "name": "stdout",
     "output_type": "stream",
     "text": [
      "商品名稱:TEVISE特威斯 T801石英水鬼不鏽鋼手錶\n",
      "商品特價:無\n",
      "商品折扣:無\n",
      "❤:7\n",
      "------------------------------------\n"
     ]
    },
    {
     "data": {
      "text/html": [
       "<img src=\"https://images.pcone.com.tw/uploads/product_image/1478225/8691cf858c88d6b1319945bfcc56100d/d441ed5e03b31db7259b75773c7a7d16.jpg\" width=\"100\" height=\"100\"/>"
      ],
      "text/plain": [
       "<IPython.core.display.Image object>"
      ]
     },
     "metadata": {},
     "output_type": "display_data"
    },
    {
     "name": "stdout",
     "output_type": "stream",
     "text": [
      "商品名稱:CASIO 簡單生活風時間手錶\n",
      "商品特價:650\n",
      "商品折扣:9.6折\n",
      "❤:4\n",
      "------------------------------------\n"
     ]
    },
    {
     "data": {
      "text/html": [
       "<img src=\"https://images.pcone.com.tw/uploads/product_image/5800118/884e6d94e615d69be3192889d33b8aa2/1f0298aa395a53b0090a82b163325671.png\" width=\"100\" height=\"100\"/>"
      ],
      "text/plain": [
       "<IPython.core.display.Image object>"
      ]
     },
     "metadata": {},
     "output_type": "display_data"
    },
    {
     "name": "stdout",
     "output_type": "stream",
     "text": [
      "商品名稱:頂級專櫃商務精工石英錶\n",
      "商品特價:無\n",
      "商品折扣:無\n",
      "❤:3\n",
      "------------------------------------\n"
     ]
    },
    {
     "data": {
      "text/html": [
       "<img src=\"https://images.pcone.com.tw/uploads/product_image/7586276/24157e1e8104a503807fb91358f91752/ed2b4913eae1d95e934fcf9862a58fa6.jpg\" width=\"100\" height=\"100\"/>"
      ],
      "text/plain": [
       "<IPython.core.display.Image object>"
      ]
     },
     "metadata": {},
     "output_type": "display_data"
    },
    {
     "name": "stdout",
     "output_type": "stream",
     "text": [
      "商品名稱:長江PHONE✨旗艦級照相心率智能手錶\n",
      "商品特價:無\n",
      "商品折扣:無\n",
      "❤:17\n",
      "------------------------------------\n"
     ]
    },
    {
     "data": {
      "text/html": [
       "<img src=\"https://images.pcone.com.tw/uploads/product_image/2250547/742b923ba4a0de70a1a3056ec621e6f7/0fb30a95826749e49aeafc221ced02af.jpg\" width=\"100\" height=\"100\"/>"
      ],
      "text/plain": [
       "<IPython.core.display.Image object>"
      ]
     },
     "metadata": {},
     "output_type": "display_data"
    },
    {
     "name": "stdout",
     "output_type": "stream",
     "text": [
      "商品名稱:【Disney迪士尼】簡約米奇鋼帶手錶 [正版授權/8款任選]\n",
      "商品特價:無\n",
      "商品折扣:無\n",
      "❤:22\n",
      "------------------------------------\n"
     ]
    },
    {
     "data": {
      "text/html": [
       "<img src=\"https://images.pcone.com.tw/uploads/product_image/8376871/7a53847b05527dbb53af0941574ff838/d9eefad727e4cef3f5b11ab39bf03461.png\" width=\"100\" height=\"100\"/>"
      ],
      "text/plain": [
       "<IPython.core.display.Image object>"
      ]
     },
     "metadata": {},
     "output_type": "display_data"
    },
    {
     "name": "stdout",
     "output_type": "stream",
     "text": [
      "商品名稱:太陽能帥氣雙時冷光手錶\n",
      "商品特價:無\n",
      "商品折扣:無\n",
      "❤:8\n",
      "------------------------------------\n"
     ]
    },
    {
     "data": {
      "text/html": [
       "<img src=\"https://images.pcone.com.tw/uploads/product_image/6080571/5458f0eb238cbd8835066786731d0122/621818c9038d94a4c3aca34ac8a1d07c.jpg\" width=\"100\" height=\"100\"/>"
      ],
      "text/plain": [
       "<IPython.core.display.Image object>"
      ]
     },
     "metadata": {},
     "output_type": "display_data"
    },
    {
     "name": "stdout",
     "output_type": "stream",
     "text": [
      "商品名稱:軍事風潮流男錶\n",
      "商品特價:無\n",
      "商品折扣:無\n",
      "❤:3\n",
      "------------------------------------\n"
     ]
    },
    {
     "data": {
      "text/html": [
       "<img src=\"https://images.pcone.com.tw/uploads/product_image/1017273/9e7048e205da45ae46c8eff7fb947693/0218d33982d15ab4029cdf332162300e.jpg\" width=\"100\" height=\"100\"/>"
      ],
      "text/plain": [
       "<IPython.core.display.Image object>"
      ]
     },
     "metadata": {},
     "output_type": "display_data"
    },
    {
     "name": "stdout",
     "output_type": "stream",
     "text": [
      "商品名稱:KAORU日本風香味手錶\n",
      "商品特價:無\n",
      "商品折扣:無\n",
      "❤:1\n",
      "------------------------------------\n"
     ]
    },
    {
     "data": {
      "text/html": [
       "<img src=\"https://images.pcone.com.tw/uploads/product_image/5150955/b24cb9c5f840e61f83c8891f46a686f2/bf004a829ab87757452fd2e22661bdb6.jpg\" width=\"100\" height=\"100\"/>"
      ],
      "text/plain": [
       "<IPython.core.display.Image object>"
      ]
     },
     "metadata": {},
     "output_type": "display_data"
    },
    {
     "name": "stdout",
     "output_type": "stream",
     "text": [
      "商品名稱:艾比讚 手錶【L701】韓版超薄時尚男士黑金鋼帶休閒運動夜光防水爆款三眼仿六針手錶 30米防水\n",
      "商品特價:382\n",
      "商品折扣:6.3折\n",
      "❤:5\n",
      "------------------------------------\n"
     ]
    },
    {
     "data": {
      "text/html": [
       "<img src=\"https://images.pcone.com.tw/uploads/product_image/3886762/6146df0206a57fc2522560620225072d/5d88026c0c45b520dea01e878cf36616.jpg\" width=\"100\" height=\"100\"/>"
      ],
      "text/plain": [
       "<IPython.core.display.Image object>"
      ]
     },
     "metadata": {},
     "output_type": "display_data"
    },
    {
     "name": "stdout",
     "output_type": "stream",
     "text": [
      "商品名稱:[贈保護貼]Amazfit Bip米動手錶青春版炫彩錶帶\n",
      "商品特價:122\n",
      "商品折扣:6.5折\n",
      "❤:13\n",
      "------------------------------------\n"
     ]
    },
    {
     "data": {
      "text/html": [
       "<img src=\"https://images.pcone.com.tw/uploads/product_image/2250547/0a482a79f8939e135a69015fb1f0c346/804791a218ca47e5d6db094b26d5d34b.jpg\" width=\"100\" height=\"100\"/>"
      ],
      "text/plain": [
       "<IPython.core.display.Image object>"
      ]
     },
     "metadata": {},
     "output_type": "display_data"
    },
    {
     "name": "stdout",
     "output_type": "stream",
     "text": [
      "商品名稱:【迪士尼】迪士尼/漫威系列運動彩帶手錶 (8款任選)\n",
      "商品特價:210\n",
      "商品折扣:3折\n",
      "❤:7\n",
      "------------------------------------\n"
     ]
    },
    {
     "data": {
      "text/html": [
       "<img src=\"https://images.pcone.com.tw/uploads/product_image/7871896/efcba09570da7df68eadc4f524513716/17ee101eb1372785c2e72980c628ac66.jpg\" width=\"100\" height=\"100\"/>"
      ],
      "text/plain": [
       "<IPython.core.display.Image object>"
      ]
     },
     "metadata": {},
     "output_type": "display_data"
    },
    {
     "name": "stdout",
     "output_type": "stream",
     "text": [
      "商品名稱:榮耀心率防水手環3 LINE/FB訊息來電實時顯示 手錶3 計步心率檢測 睡覺監測\n",
      "商品特價:699\n",
      "商品折扣:3.5折\n",
      "❤:4\n",
      "------------------------------------\n"
     ]
    },
    {
     "data": {
      "text/html": [
       "<img src=\"https://images.pcone.com.tw/uploads/product_image/2942746/6b73e682fa3a0aed19e0b75756a57bcc/e05c8c5c32653153619f74640c574e6b.jpg\" width=\"100\" height=\"100\"/>"
      ],
      "text/plain": [
       "<IPython.core.display.Image object>"
      ]
     },
     "metadata": {},
     "output_type": "display_data"
    },
    {
     "name": "stdout",
     "output_type": "stream",
     "text": [
      "商品名稱:【17mall】*贈錶盒*浪漫星空石英磁吸手錶(內附電池)顏色任選\n",
      "商品特價:323\n",
      "商品折扣:2.2折\n",
      "❤:10\n",
      "------------------------------------\n"
     ]
    },
    {
     "data": {
      "text/html": [
       "<img src=\"https://images.pcone.com.tw/uploads/product_image/2942746/2c02cd8226801cf6cc2c8c0a84649f5b/62036618daa1d0606277e144431b6018.jpg\" width=\"100\" height=\"100\"/>"
      ],
      "text/plain": [
       "<IPython.core.display.Image object>"
      ]
     },
     "metadata": {},
     "output_type": "display_data"
    },
    {
     "name": "stdout",
     "output_type": "stream",
     "text": [
      "商品名稱:WLISTH 玫瑰晶鑽日曆夜光女錶\n",
      "商品特價:無\n",
      "商品折扣:無\n",
      "❤:4\n",
      "------------------------------------\n"
     ]
    },
    {
     "data": {
      "text/html": [
       "<img src=\"https://images.pcone.com.tw/uploads/product_image/1292418/901736cd4f68320d6d3e68fef2b096c5/6f5c2538ab7b7e31f58d0929fb03b29c.jpg\" width=\"100\" height=\"100\"/>"
      ],
      "text/plain": [
       "<IPython.core.display.Image object>"
      ]
     },
     "metadata": {},
     "output_type": "display_data"
    },
    {
     "name": "stdout",
     "output_type": "stream",
     "text": [
      "商品名稱:高顏值大螢幕智慧心率手錶\n",
      "商品特價:無\n",
      "商品折扣:無\n",
      "❤:10\n",
      "------------------------------------\n"
     ]
    },
    {
     "data": {
      "text/html": [
       "<img src=\"https://images.pcone.com.tw/uploads/product_image/1619994/0d89c986f9d8e1aea81d421ab177ba90/d5b86374238452d15009a8a4db732f84.jpg\" width=\"100\" height=\"100\"/>"
      ],
      "text/plain": [
       "<IPython.core.display.Image object>"
      ]
     },
     "metadata": {},
     "output_type": "display_data"
    },
    {
     "name": "stdout",
     "output_type": "stream",
     "text": [
      "商品名稱:手錶專用拆卸工具16件組\n",
      "商品特價:239\n",
      "商品折扣:5.3折\n",
      "❤:39\n",
      "------------------------------------\n"
     ]
    },
    {
     "data": {
      "text/html": [
       "<img src=\"https://images.pcone.com.tw/uploads/product_image/6815987/62c2fe6d6ab1e4457e63a95c533c96a9/aa232601c35b538e93f317c58aef0486.jpg\" width=\"100\" height=\"100\"/>"
      ],
      "text/plain": [
       "<IPython.core.display.Image object>"
      ]
     },
     "metadata": {},
     "output_type": "display_data"
    },
    {
     "name": "stdout",
     "output_type": "stream",
     "text": [
      "商品名稱:金屬時尚觸控智慧手錶 藍芽手錶 藍牙手錶 智慧手環 藍芽手環 藍牙手環 運動手環 運動手錶\n",
      "商品特價:540\n",
      "商品折扣:5.8折\n",
      "❤:12\n",
      "------------------------------------\n"
     ]
    },
    {
     "data": {
      "text/html": [
       "<img src=\"https://images.pcone.com.tw/uploads/product_image/2551844/c8a9c8920f0616fd289bbd6da39ad948/2ec9863791b131c34351a5c3a3644b94.jpg\" width=\"100\" height=\"100\"/>"
      ],
      "text/plain": [
       "<IPython.core.display.Image object>"
      ]
     },
     "metadata": {},
     "output_type": "display_data"
    },
    {
     "name": "stdout",
     "output_type": "stream",
     "text": [
      "商品名稱:HANLIN-H19 門禁感應運動心率手錶專用-配件金屬錶帶\n",
      "商品特價:無\n",
      "商品折扣:無\n",
      "❤:3\n",
      "------------------------------------\n"
     ]
    },
    {
     "data": {
      "text/html": [
       "<img src=\"https://images.pcone.com.tw/uploads/product_image/1949591/88935657eb8d87fe64bef0f67db701da/418f56b180d1403ba8c920c88d7d6966.jpg\" width=\"100\" height=\"100\"/>"
      ],
      "text/plain": [
       "<IPython.core.display.Image object>"
      ]
     },
     "metadata": {},
     "output_type": "display_data"
    },
    {
     "name": "stdout",
     "output_type": "stream",
     "text": [
      "商品名稱:【保固一年 繁體台灣版】P68 智能 手環 彩屏 深度 防水運 動 游泳 計步DKG\n",
      "商品特價:1190\n",
      "商品折扣:4.4折\n",
      "❤:9\n",
      "------------------------------------\n"
     ]
    },
    {
     "data": {
      "text/html": [
       "<img src=\"https://images.pcone.com.tw/uploads/product_image/8910571/8da5646fba529158de2c76722dd8e690/852b8eddd9dc920800b98a263540a478.jpg\" width=\"100\" height=\"100\"/>"
      ],
      "text/plain": [
       "<IPython.core.display.Image object>"
      ]
     },
     "metadata": {},
     "output_type": "display_data"
    },
    {
     "name": "stdout",
     "output_type": "stream",
     "text": [
      "商品名稱:珂紫 K-1567 典雅菱格壓紋鑲鑽皮帶錶\n",
      "商品特價:無\n",
      "商品折扣:無\n",
      "❤:3\n",
      "------------------------------------\n"
     ]
    },
    {
     "data": {
      "text/html": [
       "<img src=\"https://images.pcone.com.tw/uploads/product_image/0768479/b2b817cf760eb0d268817c0ee4abcbe8/2248a9ad7b5f8513a0ea21a950aeb522.jpg\" width=\"100\" height=\"100\"/>"
      ],
      "text/plain": [
       "<IPython.core.display.Image object>"
      ]
     },
     "metadata": {},
     "output_type": "display_data"
    },
    {
     "name": "stdout",
     "output_type": "stream",
     "text": [
      "商品名稱:M3智能手環 運動 兒童 拍照 訊息 手環 血壓 心跳 手錶 智慧手錶 代彩屏智能手環 運動計步 多\n",
      "商品特價:317\n",
      "商品折扣:4折\n",
      "❤:3\n",
      "------------------------------------\n"
     ]
    },
    {
     "data": {
      "text/html": [
       "<img src=\"https://images.pcone.com.tw/uploads/product_image/2250547/b41c0630b587036d6d05457b781b73d6/b7f82cb42eb3022e4e0632cff2d79d61.jpg\" width=\"100\" height=\"100\"/>"
      ],
      "text/plain": [
       "<IPython.core.display.Image object>"
      ]
     },
     "metadata": {},
     "output_type": "display_data"
    },
    {
     "name": "stdout",
     "output_type": "stream",
     "text": [
      "商品名稱:三麗鷗原裝正版 數字自黏織帶運動學習手錶(12款任選)\n",
      "商品特價:無\n",
      "商品折扣:無\n",
      "❤:10\n",
      "------------------------------------\n"
     ]
    },
    {
     "data": {
      "text/html": [
       "<img src=\"https://images.pcone.com.tw/uploads/product_image/2250547/24b34b2f66c7af7b4f801a65b5f29988/631809a059fe431e167ad5500d2b7245.jpg\" width=\"100\" height=\"100\"/>"
      ],
      "text/plain": [
       "<IPython.core.display.Image object>"
      ]
     },
     "metadata": {},
     "output_type": "display_data"
    },
    {
     "name": "stdout",
     "output_type": "stream",
     "text": [
      "商品名稱:[迪士尼 X 漫威] 運動彩帶兒童手錶 / 台灣製 日本機芯 (18款任選)<大款>\n",
      "商品特價:210\n",
      "商品折扣:2.7折\n",
      "❤:26\n",
      "------------------------------------\n"
     ]
    },
    {
     "data": {
      "text/html": [
       "<img src=\"https://images.pcone.com.tw/uploads/product_image/2250547/8e2b70fffe87a32e9d095fc15675d7f0/2d14fb8bfd960a4d71c2d17b7d32a5c2.jpg\" width=\"100\" height=\"100\"/>"
      ],
      "text/plain": [
       "<IPython.core.display.Image object>"
      ]
     },
     "metadata": {},
     "output_type": "display_data"
    },
    {
     "name": "stdout",
     "output_type": "stream",
     "text": [
      "商品名稱:hello kitty 三麗鷗原裝 兒童運動彩帶手錶kikilala 大狗喜拿 /多款任選\n",
      "商品特價:無\n",
      "商品折扣:無\n",
      "❤:25\n",
      "------------------------------------\n"
     ]
    },
    {
     "data": {
      "text/html": [
       "<img src=\"https://images.pcone.com.tw/uploads/product_image/2250547/7b7e0d9c7a41fa4f836fc553bf6b76ef/4c3ca1ae548047791f2fe8c695b250dc.jpg\" width=\"100\" height=\"100\"/>"
      ],
      "text/plain": [
       "<IPython.core.display.Image object>"
      ]
     },
     "metadata": {},
     "output_type": "display_data"
    },
    {
     "name": "stdout",
     "output_type": "stream",
     "text": [
      "商品名稱:【Marvel漫威】復仇者聯盟兒童自黏帶手錶(9款任選/正版授權)\n",
      "商品特價:無\n",
      "商品折扣:無\n",
      "❤:9\n",
      "------------------------------------\n"
     ]
    },
    {
     "data": {
      "text/html": [
       "<img src=\"https://images.pcone.com.tw/uploads/product_image/1116802/835cd863fde88c0cfc717ed403e810b9/3b8627d077b9b99d6d331517b4ad4730.jpg\" width=\"100\" height=\"100\"/>"
      ],
      "text/plain": [
       "<IPython.core.display.Image object>"
      ]
     },
     "metadata": {},
     "output_type": "display_data"
    },
    {
     "name": "stdout",
     "output_type": "stream",
     "text": [
      "商品名稱:【MI】 Amazfit米動手錶 台灣版 繁體中文 小米 華米 Amazfit 米動手錶 米動青春版\n",
      "商品特價:2199\n",
      "商品折扣:8.8折\n",
      "❤:3\n",
      "------------------------------------\n"
     ]
    },
    {
     "data": {
      "text/html": [
       "<img src=\"https://images.pcone.com.tw/uploads/product_image/2250547/016bdf27b5765e47d98f480d3aac7041/86364bb66d31435904de6300a76a5a54.jpg\" width=\"100\" height=\"100\"/>"
      ],
      "text/plain": [
       "<IPython.core.display.Image object>"
      ]
     },
     "metadata": {},
     "output_type": "display_data"
    },
    {
     "name": "stdout",
     "output_type": "stream",
     "text": [
      "商品名稱:【迪士尼】米奇90周年雙時區限量紀念手錶\n",
      "商品特價:1680\n",
      "商品折扣:7.1折\n",
      "❤:2\n",
      "------------------------------------\n"
     ]
    },
    {
     "data": {
      "text/html": [
       "<img src=\"https://images.pcone.com.tw/uploads/product_image/3437129/56d27d6b33ce9fbb18741c84e1ed20ae/0a8cb482fd7f86470ddd2faacfa8ec90.jpg\" width=\"100\" height=\"100\"/>"
      ],
      "text/plain": [
       "<IPython.core.display.Image object>"
      ]
     },
     "metadata": {},
     "output_type": "display_data"
    },
    {
     "name": "stdout",
     "output_type": "stream",
     "text": [
      "商品名稱:高檔皮革手錶首飾收納盒\n",
      "商品特價:無\n",
      "商品折扣:無\n",
      "❤:7\n",
      "------------------------------------\n"
     ]
    },
    {
     "data": {
      "text/html": [
       "<img src=\"https://images.pcone.com.tw/uploads/product_image/2205004/7d6139c9fa3546eefd6b17af35bf9f6a/ed2c9026b0fa5330d59e3b7ccb110b4e.jpg\" width=\"100\" height=\"100\"/>"
      ],
      "text/plain": [
       "<IPython.core.display.Image object>"
      ]
     },
     "metadata": {},
     "output_type": "display_data"
    },
    {
     "name": "stdout",
     "output_type": "stream",
     "text": [
      "商品名稱:子奇 HANLIN-H19 門禁感應運動心率手錶 藍芽手錶 運動手錶\n",
      "商品特價:1149\n",
      "商品折扣:3.8折\n",
      "❤:1\n",
      "------------------------------------\n"
     ]
    },
    {
     "data": {
      "text/html": [
       "<img src=\"https://images.pcone.com.tw/uploads/product_image/0593692/e2ab32c394cfaa047942ad85b0c3d8dc/0215a34949d5e53b1e1b9b284f1bb9a5.jpg\" width=\"100\" height=\"100\"/>"
      ],
      "text/plain": [
       "<IPython.core.display.Image object>"
      ]
     },
     "metadata": {},
     "output_type": "display_data"
    },
    {
     "name": "stdout",
     "output_type": "stream",
     "text": [
      "商品名稱:【刀鋒BLADE】Amazfit 運動手環2 小米 運動手錶 智能手錶 智慧手錶 防水手錶 觸控螢幕\n",
      "商品特價:1750\n",
      "商品折扣:5.8折\n",
      "❤:1\n",
      "------------------------------------\n"
     ]
    },
    {
     "data": {
      "text/html": [
       "<img src=\"https://images.pcone.com.tw/uploads/product_image/5355593/14ada5510ef5ef5f1ff5f712efadf977/2aa012dfb02abbbd473a0ae129326be0.jpg\" width=\"100\" height=\"100\"/>"
      ],
      "text/plain": [
       "<IPython.core.display.Image object>"
      ]
     },
     "metadata": {},
     "output_type": "display_data"
    },
    {
     "name": "stdout",
     "output_type": "stream",
     "text": [
      "商品名稱:米兔兒童手錶3C\n",
      "商品特價:2310\n",
      "商品折扣:7.7折\n",
      "❤:1\n",
      "------------------------------------\n"
     ]
    },
    {
     "data": {
      "text/html": [
       "<img src=\"https://images.pcone.com.tw/uploads/product_image/8504492/0e06e78b8318fba9d3ff0a82c548307f/712832ea02e44a2859f18233ee143327.jpg\" width=\"100\" height=\"100\"/>"
      ],
      "text/plain": [
       "<IPython.core.display.Image object>"
      ]
     },
     "metadata": {},
     "output_type": "display_data"
    },
    {
     "name": "stdout",
     "output_type": "stream",
     "text": [
      "商品名稱:微型攝影手錶1080P 內建32G\n",
      "商品特價:無\n",
      "商品折扣:無\n",
      "❤:1\n",
      "------------------------------------\n"
     ]
    },
    {
     "data": {
      "text/html": [
       "<img src=\"https://images.pcone.com.tw/uploads/product_image/0237631/5a0e94f45f21553423d8ded1ef7a1bbd/85f6644084a16b05a55982b3812b0605.jpg\" width=\"100\" height=\"100\"/>"
      ],
      "text/plain": [
       "<IPython.core.display.Image object>"
      ]
     },
     "metadata": {},
     "output_type": "display_data"
    },
    {
     "name": "stdout",
     "output_type": "stream",
     "text": [
      "商品名稱:【2019最新款針孔手環】運動檢測 攝影手錶 針孔手錶 睡眠檢測 來電提示 錄音 錄影\n",
      "商品特價:無\n",
      "商品折扣:無\n",
      "❤:1\n",
      "------------------------------------\n"
     ]
    },
    {
     "data": {
      "text/html": [
       "<img src=\"https://images.pcone.com.tw/uploads/product_image/4500909/664a8de7e107ddcc2ed25162d4369f85/602b6f6d7c132446749217e142821550.jpg\" width=\"100\" height=\"100\"/>"
      ],
      "text/plain": [
       "<IPython.core.display.Image object>"
      ]
     },
     "metadata": {},
     "output_type": "display_data"
    },
    {
     "name": "stdout",
     "output_type": "stream",
     "text": [
      "商品名稱:Apple watch 保護貼 手錶玻璃貼 蘋果 手錶 watch保護貼 蘋果手錶保護貼 【A24】\n",
      "商品特價:59\n",
      "商品折扣:2.9折\n",
      "❤:2\n",
      "------------------------------------\n"
     ]
    },
    {
     "data": {
      "text/html": [
       "<img src=\"https://images.pcone.com.tw/uploads/product_image/1619994/7028dc753007a6cc023f444d12b4f43e/c91eded70f9d3860f6910ed400504cdf.jpg\" width=\"100\" height=\"100\"/>"
      ],
      "text/plain": [
       "<IPython.core.display.Image object>"
      ]
     },
     "metadata": {},
     "output_type": "display_data"
    },
    {
     "name": "stdout",
     "output_type": "stream",
     "text": [
      "商品名稱:八+二格手錶首飾皮革收納盒\n",
      "商品特價:647\n",
      "商品折扣:6折\n",
      "❤:7\n",
      "------------------------------------\n"
     ]
    },
    {
     "data": {
      "text/html": [
       "<img src=\"https://images.pcone.com.tw/uploads/product_image/1619994/b58a76fc8cc68a973b7787f0c4c56090/f417f94c3af40c5b52a3ac3ec1331f22.jpg\" width=\"100\" height=\"100\"/>"
      ],
      "text/plain": [
       "<IPython.core.display.Image object>"
      ]
     },
     "metadata": {},
     "output_type": "display_data"
    },
    {
     "name": "stdout",
     "output_type": "stream",
     "text": [
      "商品名稱:經典皮革雙層手錶首飾收納盒-黑/咖\n",
      "商品特價:1044\n",
      "商品折扣:6.1折\n",
      "❤:4\n",
      "------------------------------------\n"
     ]
    },
    {
     "data": {
      "text/html": [
       "<img src=\"https://images.pcone.com.tw/uploads/product_image/1619994/f055cc262394be31cb1ce7fce749e814/8890920d5e4137293505dcbde9468fec.jpg\" width=\"100\" height=\"100\"/>"
      ],
      "text/plain": [
       "<IPython.core.display.Image object>"
      ]
     },
     "metadata": {},
     "output_type": "display_data"
    },
    {
     "name": "stdout",
     "output_type": "stream",
     "text": [
      "商品名稱:專業級盒裝手錶專用拆卸工具16件組\n",
      "商品特價:557\n",
      "商品折扣:6.3折\n",
      "❤:4\n",
      "------------------------------------\n"
     ]
    },
    {
     "data": {
      "text/html": [
       "<img src=\"https://images.pcone.com.tw/uploads/product_image/1619994/700e85610974167f518cb36d3746dd18/56cc5820758a09dea496fa60b8dc7ab3.jpg\" width=\"100\" height=\"100\"/>"
      ],
      "text/plain": [
       "<IPython.core.display.Image object>"
      ]
     },
     "metadata": {},
     "output_type": "display_data"
    },
    {
     "name": "stdout",
     "output_type": "stream",
     "text": [
      "商品名稱:十二格經典皮革手錶盒-品味黑\n",
      "商品特價:647\n",
      "商品折扣:6折\n",
      "❤:3\n",
      "------------------------------------\n"
     ]
    },
    {
     "data": {
      "text/html": [
       "<img src=\"https://images.pcone.com.tw/uploads/product_image/8739395/50fbd1d31cef91448574c3e77ec05987/537fb11303deeb0732de7fd4fc968004.jpg\" width=\"100\" height=\"100\"/>"
      ],
      "text/plain": [
       "<IPython.core.display.Image object>"
      ]
     },
     "metadata": {},
     "output_type": "display_data"
    },
    {
     "name": "stdout",
     "output_type": "stream",
     "text": [
      "商品名稱:【POLI波力】百變可愛手錶*2入(波力/安寶任選)\n",
      "商品特價:439\n",
      "商品折扣:6.3折\n",
      "❤:1\n",
      "------------------------------------\n"
     ]
    },
    {
     "data": {
      "text/html": [
       "<img src=\"https://images.pcone.com.tw/uploads/product_image/0467328/3545da5e08e92a6994ba867be0bb0aa3/abb3dca6a91554f4096d648fe13bb494.jpg\" width=\"100\" height=\"100\"/>"
      ],
      "text/plain": [
       "<IPython.core.display.Image object>"
      ]
     },
     "metadata": {},
     "output_type": "display_data"
    },
    {
     "name": "stdout",
     "output_type": "stream",
     "text": [
      "商品名稱:小米 米家米兔兒童電話手錶3 4G網路學生防水智慧手錶/可連AI音箱內置小愛\n",
      "商品特價:2998\n",
      "商品折扣:6折\n",
      "❤:1\n",
      "------------------------------------\n"
     ]
    },
    {
     "data": {
      "text/html": [
       "<img src=\"https://images.pcone.com.tw/uploads/product_image/6815987/a1562d647bf765b527b8fc937c898772/1459ee84d44d04f2a0f6279c38f1436c.jpg\" width=\"100\" height=\"100\"/>"
      ],
      "text/plain": [
       "<IPython.core.display.Image object>"
      ]
     },
     "metadata": {},
     "output_type": "display_data"
    },
    {
     "name": "stdout",
     "output_type": "stream",
     "text": [
      "商品名稱:防水彩色大螢幕智慧心率運動手錶 藍牙手錶 藍芽手錶 藍牙手環 智慧手錶 藍芽手環 運動手環\n",
      "商品特價:849\n",
      "商品折扣:5.6折\n",
      "❤:3\n",
      "------------------------------------\n"
     ]
    }
   ],
   "source": [
    "import requests\n",
    "import re\n",
    "from IPython.display import Image\n",
    "from bs4 import BeautifulSoup\n",
    "res=requests.get(\"https://www.pcone.com.tw/search?q=手錶#ref=d_header_search_userinput\")\n",
    "soup=BeautifulSoup(res.text)\n",
    "divs=soup.find_all('a',{\"data-app\":\"go-product\"})\n",
    "\n",
    "for abc in divs:                                                  #loop\n",
    "    \n",
    "    img = abc.find('div','content')['data-bg']\n",
    "    \n",
    "    remote_image = Image(url = img,width=100, height=100)    \n",
    "    display (remote_image)\n",
    "    \n",
    "    \n",
    "    print (\"商品名稱:\"+abc.find('div','name limit-2-line').string)    \n",
    "    if abc.find('span','sale'):\n",
    "        print (\"商品特價:\"+abc.find('span','sale').string)    \n",
    "    else:print(\"商品特價:無\")    \n",
    "    if abc.find('div','discount'):       \n",
    "        print (\"商品折扣:\"+abc.find('div','discount').string)\n",
    "    else:print(\"商品折扣:無\")\n",
    "    if abc.find('span','count'):\n",
    "        print(\"❤:\"+abc.find('span','count').string)             #Condition\n",
    "        print(\"------------------------------------\")\n",
    "    else:print(\"❤:\"+\"\\n------------------------------------\")\n",
    "    \n",
    "        \n",
    "\n",
    "\n",
    "\n",
    "\n",
    "\n",
    "    \n",
    "\n",
    "    "
   ]
  },
  {
   "cell_type": "code",
   "execution_count": 185,
   "metadata": {},
   "outputs": [
    {
     "name": "stdout",
     "output_type": "stream",
     "text": [
      "True\n",
      "False\n",
      "防水彩色大螢幕智慧心率運動手錶 藍牙手錶 藍芽手錶 藍牙手環 智慧手錶 藍芽手環 運動手環\n",
      "['防水彩色大螢幕智慧心率運動手錶', '藍牙手錶', '藍芽手錶', '藍牙手環', '智慧手錶', '藍芽手環', '運動手環']\n",
      "['防', '水', '彩', '色', '大', '螢', '幕', '智', '慧', '心', '率', '運', '動', '手', '錶', ' ', '藍', '牙', '手', '錶', ' ', '藍', '芽', '手', '錶', ' ', '藍', '牙', '手', '環', ' ', '智', '慧', '手', '錶', ' ', '藍', '芽', '手', '環', ' ', '運', '動', '手', '環']\n",
      "1516.0714285714287\n",
      "螢智心運手 牙錶藍手 牙環智手 芽環運手\n",
      "貓咪 價格是 888 1折 優惠後價格為 $3.00.\n",
      "小狗 價格是 666 9.9折 優惠後價格為 $23.00.\n"
     ]
    }
   ],
   "source": [
    "exercise1=abc.find('span','sale').string\n",
    "        \n",
    "exercise2=abc.find('div','name limit-2-line').string\n",
    "\n",
    "exercise3List = list(exercise2)      #Lists\n",
    "\n",
    "print(isinstance(exercise1, str))    #print\n",
    "print(isinstance(exercise1, int))    #Variable and Types\n",
    "print(exercise2)                     \n",
    "exercise3Split=exercise2.split()     #split\n",
    "print(exercise3Split)\n",
    "print(exercise3List)\n",
    "\n",
    "discount=abc.find('div','discount').string\n",
    "discount_num=re.findall(r\"\\d+\\.?\\d*\",discount) #去文字\n",
    "discount_num= float(discount_num[0])    #list → float\n",
    "print(int(exercise1)/(discount_num/10)) #Basic Operators\n",
    "print(exercise2[5::2])  #Basic String Operations\n",
    "\n",
    "heart=abc.find('span','count').string\n",
    "\n",
    "class product:                                       #Classes and objects                    \n",
    "    name = exercise2\n",
    "    price = exercise1\n",
    "    discount = discount\n",
    "    heart_num = heart\n",
    "    def description(self):\n",
    "        desc_str = \"%s 價格是 %s %s 優惠後價格為 $%.2f.\" % (self.name, self.price, self.discount, self.heart_num)\n",
    "        return desc_str\n",
    "pds1 = product()\n",
    "pds1.name = \"貓咪\"\n",
    "pds1.price = \"888\"\n",
    "pds1.discount = \"1折\"\n",
    "pds1.heart_num = 3\n",
    "\n",
    "pds2 = product()\n",
    "pds2.name = \"小狗\"\n",
    "pds2.price = \"666\"\n",
    "pds2.discount = \"9.9折\"\n",
    "pds2.heart_num = 23\n",
    "\n",
    "print(pds1.description())\n",
    "print(pds2.description())"
   ]
  },
  {
   "cell_type": "code",
   "execution_count": 163,
   "metadata": {},
   "outputs": [
    {
     "data": {
      "text/html": [
       "<img src=\"https://images.pcone.com.tw/uploads/product_image/2242024/066ad5b4264191fdc7f1c6d816fb0289/24aa42c643de0121cb4ea0f6a6a6d9c8.jpg\"/>"
      ],
      "text/plain": [
       "<IPython.core.display.Image object>"
      ]
     },
     "metadata": {},
     "output_type": "display_data"
    },
    {
     "data": {
      "text/html": [
       "<img src=\"https://images.pcone.com.tw/uploads/product_image/3280272/8f505f2dc1035e6b35961f07cb17873a/20228095697b70e26935a8601f320600.jpg\" width=\"100\" height=\"100\"/>"
      ],
      "text/plain": [
       "<IPython.core.display.Image object>"
      ]
     },
     "metadata": {},
     "output_type": "display_data"
    }
   ],
   "source": [
    "from IPython.display import Image\n",
    "remote_image = Image(url = 'https://images.pcone.com.tw/uploads/product_image/2242024/066ad5b4264191fdc7f1c6d816fb0289/24aa42c643de0121cb4ea0f6a6a6d9c8.jpg')\n",
    "remote_image2 = Image(url = 'https://images.pcone.com.tw/uploads/product_image/3280272/8f505f2dc1035e6b35961f07cb17873a/20228095697b70e26935a8601f320600.jpg',width=100, height=100)\n",
    "# Image(url,width=300, height=300)\n",
    "display (remote_image)\n",
    "display (remote_image2)"
   ]
  },
  {
   "cell_type": "code",
   "execution_count": null,
   "metadata": {},
   "outputs": [],
   "source": []
  }
 ],
 "metadata": {
  "kernelspec": {
   "display_name": "Python 3",
   "language": "python",
   "name": "python3"
  },
  "language_info": {
   "codemirror_mode": {
    "name": "ipython",
    "version": 3
   },
   "file_extension": ".py",
   "mimetype": "text/x-python",
   "name": "python",
   "nbconvert_exporter": "python",
   "pygments_lexer": "ipython3",
   "version": "3.7.3"
  }
 },
 "nbformat": 4,
 "nbformat_minor": 2
}
