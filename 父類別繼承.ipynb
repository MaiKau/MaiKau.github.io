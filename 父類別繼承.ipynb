{
 "cells": [
  {
   "cell_type": "markdown",
   "id": "856d1f30",
   "metadata": {},
   "source": [
    "<h1><center>Car(子類別)的物件mazda擁有Transportation(父類別)的color屬性(Attribute)及drive()方法(Method)</center></h1>"
   ]
  },
  {
   "cell_type": "code",
   "execution_count": 1,
   "id": "72174261",
   "metadata": {},
   "outputs": [],
   "source": [
    "# 交通工具(基底類別)\n",
    "class Transportation:\n",
    "    # 建構式\n",
    "    def __init__(self):\n",
    "        self.color = \"white\"  #顏色屬性\n",
    "    # 駕駛方法\n",
    "    def drive(self):\n",
    "        print(\"drive method is called.\")\n",
    "        \n",
    "# 汽車子類別\n",
    "class Car(Transportation):\n",
    "    # 加速方法\n",
    "    def accelerate(self):\n",
    "        print(\"accelerate is method called.\")\n",
    "        \n",
    "# 飛機子類別\n",
    "class Airplane(Transportation):\n",
    "    # 飛行方法\n",
    "    def fly(self):\n",
    "        print(\"fly method is called.\")"
   ]
  },
  {
   "cell_type": "code",
   "execution_count": 2,
   "id": "77a0c4a0",
   "metadata": {},
   "outputs": [
    {
     "name": "stdout",
     "output_type": "stream",
     "text": [
      "drive method is called.\n",
      "white\n"
     ]
    }
   ],
   "source": [
    "mazda = Car()      #宣告mazda屬於car的一員\n",
    "mazda.drive()\n",
    "print(mazda.color) #繼承了原本的顏色"
   ]
  },
  {
   "cell_type": "markdown",
   "id": "2c436763",
   "metadata": {},
   "source": [
    "<h1><center>判斷是否為其子類別</center><h1>"
   ]
  },
  {
   "cell_type": "code",
   "execution_count": 3,
   "id": "5cc5311a",
   "metadata": {},
   "outputs": [
    {
     "name": "stdout",
     "output_type": "stream",
     "text": [
      "True\n",
      "True\n",
      "False\n"
     ]
    }
   ],
   "source": [
    "# Airplane是否為Transportation的子類別\n",
    "print(issubclass(Airplane, Transportation))\n",
    "# Airplane是否為object的子類別\n",
    "print(issubclass(Airplane, object))\n",
    "# Airplane是否為Car的子類別\n",
    "print(issubclass(Airplane, Car))"
   ]
  },
  {
   "cell_type": "markdown",
   "id": "fff0d196",
   "metadata": {},
   "source": [
    "<h1><center>方法複寫</center></h1>"
   ]
  },
  {
   "cell_type": "code",
   "execution_count": 4,
   "id": "545a4fb4",
   "metadata": {},
   "outputs": [
    {
     "name": "stdout",
     "output_type": "stream",
     "text": [
      "Sub class drive method is called.\n"
     ]
    }
   ],
   "source": [
    "# 交通工具(基底類別)\n",
    "class Transportation:\n",
    "    # 駕駛方法\n",
    "    def drive(self):\n",
    "        print(\"Base class drive method is called.\") #原本\n",
    "# 汽車子類別\n",
    "class Car(Transportation):\n",
    "    # 駕駛方法\n",
    "    def drive(self):\n",
    "        print(\"Sub class drive method is called.\") #取代的\n",
    "mazda = Car()\n",
    "mazda.drive()"
   ]
  },
  {
   "cell_type": "markdown",
   "id": "520623c6",
   "metadata": {},
   "source": [
    "<h1><center>super()令子類別使用到父類別的方法</center></h1>"
   ]
  },
  {
   "cell_type": "code",
   "execution_count": 10,
   "id": "4804b36c",
   "metadata": {},
   "outputs": [
    {
     "name": "stdout",
     "output_type": "stream",
     "text": [
      "Base class drive method is called.\n",
      "Sub class drive method is called.\n"
     ]
    }
   ],
   "source": [
    "# 交通工具(基底類別)\n",
    "class Transportation:\n",
    "    # 駕駛方法\n",
    "    def drive(self):\n",
    "        print(\"Base class drive method is called.\")\n",
    "# 汽車子類別\n",
    "class Car(Transportation):\n",
    "    # 駕駛方法\n",
    "    def drive(self):\n",
    "        super().drive()\n",
    "        print(\"Sub class drive method is called.\")\n",
    "\n",
    "mazda = Car()\n",
    "mazda.drive() \n",
    "#兩行都跑出來了"
   ]
  },
  {
   "cell_type": "markdown",
   "id": "6dbad157",
   "metadata": {},
   "source": [
    "<h1><center>多層繼承(Multi-Level Inheritance)</center></h1>"
   ]
  },
  {
   "cell_type": "code",
   "execution_count": 19,
   "id": "693e1314",
   "metadata": {},
   "outputs": [
    {
     "name": "stdout",
     "output_type": "stream",
     "text": [
      "!@#$%^&*\n",
      "QWERRRRRRRRRRR\n"
     ]
    }
   ],
   "source": [
    "# 動物類別\n",
    "class Animal:\n",
    "    def food(self):\n",
    "        print(\"QWERRRRRRRRRRR\")\n",
    "# 鳥類類別\n",
    "class Bird(Animal):\n",
    "    # 飛行方法\n",
    "    def fly(self):\n",
    "        print(\"!@#$%^&*\")\n",
    "# 鴨子類別\n",
    "class Duck(Bird):\n",
    "    pass\n",
    "\n",
    "duck = Duck()\n",
    "duck.fly()\n",
    "duck.food() #duck繼承Bird本來就繼承的Animal"
   ]
  },
  {
   "cell_type": "markdown",
   "id": "cb3e4375",
   "metadata": {},
   "source": [
    "<h1><center>多重繼承的類別裡面有相同名稱方法，只會找到第一個</center></h1>"
   ]
  },
  {
   "cell_type": "code",
   "execution_count": 20,
   "id": "26fba899",
   "metadata": {},
   "outputs": [
    {
     "name": "stdout",
     "output_type": "stream",
     "text": [
      "Animal eat method is called.\n"
     ]
    }
   ],
   "source": [
    "# 動物類別\n",
    "class Animal:\n",
    "    def eat(self):\n",
    "        print(\"Animal eat method is called.\")\n",
    "# 鳥類類別\n",
    "class Bird:\n",
    "    def eat(self):\n",
    "        print(\"Bird fly method is called.\")\n",
    "# 鴨子類別\n",
    "class Duck(Animal, Bird):\n",
    "    pass\n",
    "duck = Duck()\n",
    "duck.eat()"
   ]
  },
  {
   "cell_type": "markdown",
   "id": "444fe0cd",
   "metadata": {},
   "source": [
    "<h1><center>多重繼承的類別，不同名稱才可分別獲取</center></h1>"
   ]
  },
  {
   "cell_type": "code",
   "execution_count": 22,
   "id": "2a92e8d7",
   "metadata": {},
   "outputs": [
    {
     "name": "stdout",
     "output_type": "stream",
     "text": [
      "Animal eat method is called.\n",
      "Bird walk method is called.\n"
     ]
    }
   ],
   "source": [
    "# 動物類別\n",
    "class Animal:\n",
    "    def eat(self):\n",
    "        print(\"Animal eat method is called.\")\n",
    "# 鳥類類別\n",
    "class Bird:\n",
    "    def walk(self):\n",
    "        print(\"Bird walk method is called.\")\n",
    "# 鴨子類別\n",
    "class Duck(Animal, Bird):\n",
    "    pass\n",
    "duck = Duck()\n",
    "duck.eat()\n",
    "duck.walk()"
   ]
  }
 ],
 "metadata": {
  "kernelspec": {
   "display_name": "Python 3",
   "language": "python",
   "name": "python3"
  },
  "language_info": {
   "codemirror_mode": {
    "name": "ipython",
    "version": 3
   },
   "file_extension": ".py",
   "mimetype": "text/x-python",
   "name": "python",
   "nbconvert_exporter": "python",
   "pygments_lexer": "ipython3",
   "version": "3.8.8"
  }
 },
 "nbformat": 4,
 "nbformat_minor": 5
}
