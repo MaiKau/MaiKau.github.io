{
 "cells": [
  {
   "cell_type": "markdown",
   "id": "802cf020",
   "metadata": {},
   "source": [
    "lambda parameter_list: expression"
   ]
  },
  {
   "cell_type": "code",
   "execution_count": 3,
   "id": "022b249a",
   "metadata": {},
   "outputs": [
    {
     "name": "stdout",
     "output_type": "stream",
     "text": [
      "10\n"
     ]
    }
   ],
   "source": [
    "multiply=lambda x,y:x*y+y\n",
    "print(multiply(4,2))"
   ]
  },
  {
   "cell_type": "markdown",
   "id": "7e895ec5",
   "metadata": {},
   "source": [
    "(lambda parameter: expression)(argument)"
   ]
  },
  {
   "cell_type": "code",
   "execution_count": 6,
   "id": "92c544ca",
   "metadata": {},
   "outputs": [
    {
     "name": "stdout",
     "output_type": "stream",
     "text": [
      "!@#$%^&*#$%^testplus\n"
     ]
    }
   ],
   "source": [
    "title=\"!@#$%^&*#$%^\"\n",
    "(lambda title: print(title+'testplus'))(title)"
   ]
  },
  {
   "cell_type": "markdown",
   "id": "56bc76a5",
   "metadata": {},
   "source": [
    "在可疊代的物件中，依據條件運算式，選擇特定的元素。\n",
    "\n",
    "filter(lambda parameter: expression, iterable)  "
   ]
  },
  {
   "cell_type": "code",
   "execution_count": 10,
   "id": "f3bd712b",
   "metadata": {},
   "outputs": [
    {
     "name": "stdout",
     "output_type": "stream",
     "text": [
      "<class 'filter'>\n",
      "<filter object at 0x000001B247779220>\n",
      "[50, 12, 30, 27]\n"
     ]
    }
   ],
   "source": [
    "numbers=[50,2,12,30,27,4]\n",
    "\n",
    "result=filter(lambda x:x>4,numbers)\n",
    "print(type(result))\n",
    "print(result)\n",
    "print(list(result)) #需將結果轉型為串列才能print"
   ]
  },
  {
   "cell_type": "markdown",
   "id": "6d3dfa1d",
   "metadata": {},
   "source": [
    "在可疊代的物件中，套用特定運算式於每一個元素\n",
    "\n",
    "map(lambda parameter: expression, iterable)  "
   ]
  },
  {
   "cell_type": "code",
   "execution_count": 13,
   "id": "4482bf92",
   "metadata": {},
   "outputs": [
    {
     "name": "stdout",
     "output_type": "stream",
     "text": [
      "[500, 20, 120, 300, 270, 40]\n"
     ]
    }
   ],
   "source": [
    "numbers=[50,2,12,30,27,4]\n",
    "\n",
    "result= map(lambda x:x*10,numbers)\n",
    "print(list(result))"
   ]
  },
  {
   "cell_type": "markdown",
   "id": "c9a2e451",
   "metadata": {},
   "source": [
    "1.將可疊代物件中的前兩個元素先進行Lambda運算式的運算。\n",
    "\n",
    "2.接著將第一個步驟的運算結果和可疊代物件中的下一個元素(第三個)傳入Lambda函式進行運算。\n",
    "\n",
    "3.依此類推，直到可疊代物件的元素都運算完成\n",
    "\n",
    "reduce(lambda parameter1, parameter2: expression, iterable)"
   ]
  },
  {
   "cell_type": "code",
   "execution_count": 17,
   "id": "6e96611d",
   "metadata": {},
   "outputs": [
    {
     "name": "stdout",
     "output_type": "stream",
     "text": [
      "125\n"
     ]
    }
   ],
   "source": [
    "from functools import reduce#使用reduce()內建方法時，記得引用functools模組。\n",
    "\n",
    "numbers=[50,2,12,30,27,4]\n",
    "\n",
    "result=reduce(lambda x,y:x+y,numbers)\n",
    "print(result)"
   ]
  },
  {
   "cell_type": "markdown",
   "id": "f2b816b5",
   "metadata": {},
   "source": [
    "sorted()：用來排序可疊代物件中的元素\n",
    "\n",
    "sorted(iterable, key=lambda parameter: expression)"
   ]
  },
  {
   "cell_type": "code",
   "execution_count": 25,
   "id": "84e177f3",
   "metadata": {},
   "outputs": [
    {
     "name": "stdout",
     "output_type": "stream",
     "text": [
      "[('A_Hank', 300), ('B_Tony', 100), ('C_Judy', 200)]\n",
      "[('B_Tony', 100), ('C_Judy', 200), ('A_Hank', 300)]\n"
     ]
    }
   ],
   "source": [
    "person=[\n",
    "    (\"A_Hank\",300),\n",
    "    (\"B_Tony\",100),\n",
    "    (\"C_Judy\",200)\n",
    "]\n",
    "\n",
    "#[]為第幾個元素為排序依據\n",
    "print(sorted(person,key=lambda person:person[0]))\n",
    "\n",
    "print(sorted(person,key=lambda person:person[1]))"
   ]
  }
 ],
 "metadata": {
  "kernelspec": {
   "display_name": "Python 3",
   "language": "python",
   "name": "python3"
  },
  "language_info": {
   "codemirror_mode": {
    "name": "ipython",
    "version": 3
   },
   "file_extension": ".py",
   "mimetype": "text/x-python",
   "name": "python",
   "nbconvert_exporter": "python",
   "pygments_lexer": "ipython3",
   "version": "3.8.8"
  }
 },
 "nbformat": 4,
 "nbformat_minor": 5
}
