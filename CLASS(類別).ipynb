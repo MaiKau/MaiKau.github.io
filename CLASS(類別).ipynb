{
 "cells": [
  {
   "cell_type": "markdown",
   "id": "d600265d",
   "metadata": {},
   "source": [
    "<h1><center>設定基本物件(Object)屬性(Property)</center></h1>"
   ]
  },
  {
   "cell_type": "code",
   "execution_count": 15,
   "id": "ced528ee",
   "metadata": {},
   "outputs": [],
   "source": [
    "class person:\n",
    "\n",
    "    def __init__(self, Name, Sex, Age):\n",
    "        self.Name = Name\n",
    "        self.Sex = Sex\n",
    "        self.Age = Age"
   ]
  },
  {
   "cell_type": "code",
   "execution_count": 16,
   "id": "34aa48c1",
   "metadata": {},
   "outputs": [],
   "source": [
    "no1=person(\"HANK\", \"MALE\", 30)\n",
    "no2=person(\"TONY\",\"FEMALE\",20)"
   ]
  },
  {
   "cell_type": "code",
   "execution_count": 18,
   "id": "4d1ce894",
   "metadata": {},
   "outputs": [
    {
     "name": "stdout",
     "output_type": "stream",
     "text": [
      "HANK\n",
      "MALE\n",
      "30\n",
      "\n",
      "TONY\n",
      "FEMALE\n",
      "20\n"
     ]
    }
   ],
   "source": [
    "print(no1.Name)\n",
    "print(no1.Sex)\n",
    "print(no1.Age)\n",
    "print()\n",
    "print(no2.Name)\n",
    "print(no2.Sex)\n",
    "print(no2.Age)"
   ]
  },
  {
   "cell_type": "markdown",
   "id": "196223ca",
   "metadata": {},
   "source": [
    "<h1><center>類別屬性跟物件屬性之改變差異</center></h1>"
   ]
  },
  {
   "cell_type": "code",
   "execution_count": 19,
   "id": "ccdc6f73",
   "metadata": {},
   "outputs": [
    {
     "name": "stdout",
     "output_type": "stream",
     "text": [
      "mazda original door:  4\n",
      "toyota original door:  4\n",
      "mazda new door:  6\n",
      "toyota new door:  6\n"
     ]
    }
   ],
   "source": [
    "# 汽車類別\n",
    "class Cars:\n",
    "    door = 4 #類別屬性\n",
    "    # 建構式\n",
    "    def __init__(self, color, seat):\n",
    "        self.color = color\n",
    "        self.seat = seat\n",
    "        self.weight = 140\n",
    "mazda = Cars(\"blue\", 4)\n",
    "toyota = Cars(\"red\", 6)\n",
    "print(\"mazda original door: \", mazda.door)  # door原值\n",
    "print(\"toyota original door: \", toyota.door)  # door原值\n",
    "Cars.door = 6 #更改類別屬性\n",
    "print(\"mazda new door: \", mazda.door)  # door新值\n",
    "print(\"toyota new door: \", toyota.door)  # door新值"
   ]
  },
  {
   "cell_type": "markdown",
   "id": "9e309edb",
   "metadata": {},
   "source": [
    "<h1><center>判斷賦值的條件，不符合跳error</center></h1>"
   ]
  },
  {
   "cell_type": "code",
   "execution_count": 32,
   "id": "bea1db8e",
   "metadata": {},
   "outputs": [],
   "source": [
    "# 汽車類別\n",
    "class Cars:\n",
    "    # 建構式\n",
    "    def __init__(self, weight):\n",
    "        self.set_weight(weight)\n",
    "    def get_weight(self):\n",
    "        return self.__weight\n",
    "    def set_weight(self, value):\n",
    "        if value <= 0:\n",
    "            raise ValueError(\"你不能為負!!!!!!!!\")\n",
    "        self.__weight = value"
   ]
  },
  {
   "cell_type": "code",
   "execution_count": 33,
   "id": "ec0d9803",
   "metadata": {},
   "outputs": [
    {
     "ename": "ValueError",
     "evalue": "你不能為負!!!!!!!!",
     "output_type": "error",
     "traceback": [
      "\u001b[1;31m---------------------------------------------------------------------------\u001b[0m",
      "\u001b[1;31mValueError\u001b[0m                                Traceback (most recent call last)",
      "\u001b[1;32m<ipython-input-33-e5caaa2e3640>\u001b[0m in \u001b[0;36m<module>\u001b[1;34m\u001b[0m\n\u001b[1;32m----> 1\u001b[1;33m \u001b[0mmazda\u001b[0m \u001b[1;33m=\u001b[0m \u001b[0mCars\u001b[0m\u001b[1;33m(\u001b[0m\u001b[1;33m-\u001b[0m\u001b[1;36m200\u001b[0m\u001b[1;33m)\u001b[0m \u001b[1;31m#由上述判斷值不能為負\u001b[0m\u001b[1;33m\u001b[0m\u001b[1;33m\u001b[0m\u001b[0m\n\u001b[0m",
      "\u001b[1;32m<ipython-input-32-95c21c472faf>\u001b[0m in \u001b[0;36m__init__\u001b[1;34m(self, weight)\u001b[0m\n\u001b[0;32m      3\u001b[0m     \u001b[1;31m# 建構式\u001b[0m\u001b[1;33m\u001b[0m\u001b[1;33m\u001b[0m\u001b[1;33m\u001b[0m\u001b[0m\n\u001b[0;32m      4\u001b[0m     \u001b[1;32mdef\u001b[0m \u001b[0m__init__\u001b[0m\u001b[1;33m(\u001b[0m\u001b[0mself\u001b[0m\u001b[1;33m,\u001b[0m \u001b[0mweight\u001b[0m\u001b[1;33m)\u001b[0m\u001b[1;33m:\u001b[0m\u001b[1;33m\u001b[0m\u001b[1;33m\u001b[0m\u001b[0m\n\u001b[1;32m----> 5\u001b[1;33m         \u001b[0mself\u001b[0m\u001b[1;33m.\u001b[0m\u001b[0mset_weight\u001b[0m\u001b[1;33m(\u001b[0m\u001b[0mweight\u001b[0m\u001b[1;33m)\u001b[0m\u001b[1;33m\u001b[0m\u001b[1;33m\u001b[0m\u001b[0m\n\u001b[0m\u001b[0;32m      6\u001b[0m     \u001b[1;32mdef\u001b[0m \u001b[0mget_weight\u001b[0m\u001b[1;33m(\u001b[0m\u001b[0mself\u001b[0m\u001b[1;33m)\u001b[0m\u001b[1;33m:\u001b[0m\u001b[1;33m\u001b[0m\u001b[1;33m\u001b[0m\u001b[0m\n\u001b[0;32m      7\u001b[0m         \u001b[1;32mreturn\u001b[0m \u001b[0mself\u001b[0m\u001b[1;33m.\u001b[0m\u001b[0m__weight\u001b[0m\u001b[1;33m\u001b[0m\u001b[1;33m\u001b[0m\u001b[0m\n",
      "\u001b[1;32m<ipython-input-32-95c21c472faf>\u001b[0m in \u001b[0;36mset_weight\u001b[1;34m(self, value)\u001b[0m\n\u001b[0;32m      8\u001b[0m     \u001b[1;32mdef\u001b[0m \u001b[0mset_weight\u001b[0m\u001b[1;33m(\u001b[0m\u001b[0mself\u001b[0m\u001b[1;33m,\u001b[0m \u001b[0mvalue\u001b[0m\u001b[1;33m)\u001b[0m\u001b[1;33m:\u001b[0m\u001b[1;33m\u001b[0m\u001b[1;33m\u001b[0m\u001b[0m\n\u001b[0;32m      9\u001b[0m         \u001b[1;32mif\u001b[0m \u001b[0mvalue\u001b[0m \u001b[1;33m<=\u001b[0m \u001b[1;36m0\u001b[0m\u001b[1;33m:\u001b[0m\u001b[1;33m\u001b[0m\u001b[1;33m\u001b[0m\u001b[0m\n\u001b[1;32m---> 10\u001b[1;33m             \u001b[1;32mraise\u001b[0m \u001b[0mValueError\u001b[0m\u001b[1;33m(\u001b[0m\u001b[1;34m\"你不能為負!!!!!!!!\"\u001b[0m\u001b[1;33m)\u001b[0m\u001b[1;33m\u001b[0m\u001b[1;33m\u001b[0m\u001b[0m\n\u001b[0m\u001b[0;32m     11\u001b[0m         \u001b[0mself\u001b[0m\u001b[1;33m.\u001b[0m\u001b[0m__weight\u001b[0m \u001b[1;33m=\u001b[0m \u001b[0mvalue\u001b[0m\u001b[1;33m\u001b[0m\u001b[1;33m\u001b[0m\u001b[0m\n",
      "\u001b[1;31mValueError\u001b[0m: 你不能為負!!!!!!!!"
     ]
    }
   ],
   "source": [
    "mazda = Cars(-200) #由上述判斷值不能為負"
   ]
  },
  {
   "cell_type": "markdown",
   "id": "d1afc748",
   "metadata": {},
   "source": [
    "<h1><center>同上之python獨有的'property'與'setter'寫法</center></h1>"
   ]
  },
  {
   "cell_type": "code",
   "execution_count": 37,
   "id": "230f06be",
   "metadata": {},
   "outputs": [],
   "source": [
    "# 汽車類別\n",
    "class Cars:\n",
    "    # 建構式\n",
    "    def __init__(self, weight):\n",
    "        self.weight = weight\n",
    "    @property\n",
    "    def weight(self):\n",
    "        return self.__weight\n",
    "    @weight.setter\n",
    "    def weight(self, value):\n",
    "        if value <= 0:\n",
    "            raise ValueError(\"你不能為負2!!!!!!!!\")\n",
    "        self.__weight = value"
   ]
  },
  {
   "cell_type": "code",
   "execution_count": 38,
   "id": "68b3b7b6",
   "metadata": {},
   "outputs": [
    {
     "name": "stdout",
     "output_type": "stream",
     "text": [
      "100\n"
     ]
    },
    {
     "ename": "ValueError",
     "evalue": "你不能為負2!!!!!!!!",
     "output_type": "error",
     "traceback": [
      "\u001b[1;31m---------------------------------------------------------------------------\u001b[0m",
      "\u001b[1;31mValueError\u001b[0m                                Traceback (most recent call last)",
      "\u001b[1;32m<ipython-input-38-d3b7e8f40ee3>\u001b[0m in \u001b[0;36m<module>\u001b[1;34m\u001b[0m\n\u001b[0;32m      1\u001b[0m \u001b[0mmazda\u001b[0m \u001b[1;33m=\u001b[0m \u001b[0mCars\u001b[0m\u001b[1;33m(\u001b[0m\u001b[1;36m100\u001b[0m\u001b[1;33m)\u001b[0m\u001b[1;33m\u001b[0m\u001b[1;33m\u001b[0m\u001b[0m\n\u001b[0;32m      2\u001b[0m \u001b[0mprint\u001b[0m\u001b[1;33m(\u001b[0m\u001b[0mmazda\u001b[0m\u001b[1;33m.\u001b[0m\u001b[0mweight\u001b[0m\u001b[1;33m)\u001b[0m\u001b[1;33m\u001b[0m\u001b[1;33m\u001b[0m\u001b[0m\n\u001b[1;32m----> 3\u001b[1;33m \u001b[0mmazda\u001b[0m \u001b[1;33m=\u001b[0m \u001b[0mCars\u001b[0m\u001b[1;33m(\u001b[0m\u001b[1;33m-\u001b[0m\u001b[1;36m200\u001b[0m\u001b[1;33m)\u001b[0m\u001b[1;33m\u001b[0m\u001b[1;33m\u001b[0m\u001b[0m\n\u001b[0m",
      "\u001b[1;32m<ipython-input-37-d53fb93e5150>\u001b[0m in \u001b[0;36m__init__\u001b[1;34m(self, weight)\u001b[0m\n\u001b[0;32m      3\u001b[0m     \u001b[1;31m# 建構式\u001b[0m\u001b[1;33m\u001b[0m\u001b[1;33m\u001b[0m\u001b[1;33m\u001b[0m\u001b[0m\n\u001b[0;32m      4\u001b[0m     \u001b[1;32mdef\u001b[0m \u001b[0m__init__\u001b[0m\u001b[1;33m(\u001b[0m\u001b[0mself\u001b[0m\u001b[1;33m,\u001b[0m \u001b[0mweight\u001b[0m\u001b[1;33m)\u001b[0m\u001b[1;33m:\u001b[0m\u001b[1;33m\u001b[0m\u001b[1;33m\u001b[0m\u001b[0m\n\u001b[1;32m----> 5\u001b[1;33m         \u001b[0mself\u001b[0m\u001b[1;33m.\u001b[0m\u001b[0mweight\u001b[0m \u001b[1;33m=\u001b[0m \u001b[0mweight\u001b[0m\u001b[1;33m\u001b[0m\u001b[1;33m\u001b[0m\u001b[0m\n\u001b[0m\u001b[0;32m      6\u001b[0m     \u001b[1;33m@\u001b[0m\u001b[0mproperty\u001b[0m\u001b[1;33m\u001b[0m\u001b[1;33m\u001b[0m\u001b[0m\n\u001b[0;32m      7\u001b[0m     \u001b[1;32mdef\u001b[0m \u001b[0mweight\u001b[0m\u001b[1;33m(\u001b[0m\u001b[0mself\u001b[0m\u001b[1;33m)\u001b[0m\u001b[1;33m:\u001b[0m\u001b[1;33m\u001b[0m\u001b[1;33m\u001b[0m\u001b[0m\n",
      "\u001b[1;32m<ipython-input-37-d53fb93e5150>\u001b[0m in \u001b[0;36mweight\u001b[1;34m(self, value)\u001b[0m\n\u001b[0;32m     10\u001b[0m     \u001b[1;32mdef\u001b[0m \u001b[0mweight\u001b[0m\u001b[1;33m(\u001b[0m\u001b[0mself\u001b[0m\u001b[1;33m,\u001b[0m \u001b[0mvalue\u001b[0m\u001b[1;33m)\u001b[0m\u001b[1;33m:\u001b[0m\u001b[1;33m\u001b[0m\u001b[1;33m\u001b[0m\u001b[0m\n\u001b[0;32m     11\u001b[0m         \u001b[1;32mif\u001b[0m \u001b[0mvalue\u001b[0m \u001b[1;33m<=\u001b[0m \u001b[1;36m0\u001b[0m\u001b[1;33m:\u001b[0m\u001b[1;33m\u001b[0m\u001b[1;33m\u001b[0m\u001b[0m\n\u001b[1;32m---> 12\u001b[1;33m             \u001b[1;32mraise\u001b[0m \u001b[0mValueError\u001b[0m\u001b[1;33m(\u001b[0m\u001b[1;34m\"你不能為負2!!!!!!!!\"\u001b[0m\u001b[1;33m)\u001b[0m\u001b[1;33m\u001b[0m\u001b[1;33m\u001b[0m\u001b[0m\n\u001b[0m\u001b[0;32m     13\u001b[0m         \u001b[0mself\u001b[0m\u001b[1;33m.\u001b[0m\u001b[0m__weight\u001b[0m \u001b[1;33m=\u001b[0m \u001b[0mvalue\u001b[0m\u001b[1;33m\u001b[0m\u001b[1;33m\u001b[0m\u001b[0m\n",
      "\u001b[1;31mValueError\u001b[0m: 你不能為負2!!!!!!!!"
     ]
    }
   ],
   "source": [
    "mazda = Cars(100)\n",
    "print(mazda.weight)\n",
    "mazda = Cars(-200)"
   ]
  }
 ],
 "metadata": {
  "kernelspec": {
   "display_name": "Python 3",
   "language": "python",
   "name": "python3"
  },
  "language_info": {
   "codemirror_mode": {
    "name": "ipython",
    "version": 3
   },
   "file_extension": ".py",
   "mimetype": "text/x-python",
   "name": "python",
   "nbconvert_exporter": "python",
   "pygments_lexer": "ipython3",
   "version": "3.8.8"
  }
 },
 "nbformat": 4,
 "nbformat_minor": 5
}
