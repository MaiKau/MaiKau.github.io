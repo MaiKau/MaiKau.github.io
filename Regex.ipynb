{
 "cells": [
  {
   "cell_type": "markdown",
   "id": "12e41098",
   "metadata": {},
   "source": [
    "<h1><center>Regex正則表達式</center></h1>\n",
    "●Python 中的正則表達式可通過 re 模塊使用\n",
    "\n",
    "●使用正則表達式，您可以為要匹配的可能字符串集指定規則。通常我們首先定義我們想要搜索的模式，並re.compile()在其上使用。默認情況下，我們的模式區分大小寫。"
   ]
  },
  {
   "cell_type": "markdown",
   "id": "ab269750",
   "metadata": {},
   "source": [
    "<h1><center>注意：建議使用原始字符串進行搜索</center></h1>"
   ]
  },
  {
   "cell_type": "code",
   "execution_count": 10,
   "id": "cf96c674",
   "metadata": {},
   "outputs": [
    {
     "name": "stdout",
     "output_type": "stream",
     "text": [
      "\tHello\n",
      "\\tHello\n"
     ]
    }
   ],
   "source": [
    "## Use raw strings for the search pattern\n",
    "a = '\\tHello'\n",
    "b = r'\\tHello'\n",
    "print(a)\n",
    "print(b)"
   ]
  },
  {
   "cell_type": "code",
   "execution_count": 14,
   "id": "9c837696",
   "metadata": {},
   "outputs": [
    {
     "name": "stdout",
     "output_type": "stream",
     "text": [
      "<re.Match object; span=(3, 8), match='river'>\n",
      "<re.Match object; span=(13, 18), match='river'>\n",
      "<re.Match object; span=(21, 26), match='river'>\n",
      "------------------------------------\n",
      "<re.Match object; span=(0, 3), match='123'>\n",
      "<re.Match object; span=(18, 21), match='123'>\n"
     ]
    }
   ],
   "source": [
    "import re\n",
    "\n",
    "test_string=\"123river45678river123river\"\n",
    "\n",
    "# 分開寫 pattern.finditer()/match()/search()/findall()\n",
    "\n",
    "pattern = re.compile(r\"river\")\n",
    "matches = pattern.finditer(test_string)\n",
    "for match in matches:\n",
    "    print(match)\n",
    "\n",
    "print(\"------------------------------------\")\n",
    "\n",
    "# 寫一起\n",
    "matches2 = re.finditer(r\"123\",test_string)\n",
    "for match2 in matches2:\n",
    "    print(match2)\n"
   ]
  },
  {
   "cell_type": "markdown",
   "id": "01cfbed1",
   "metadata": {},
   "source": [
    "<h1><center>與編譯對象執行匹配</center></h1>\n",
    "一旦我們有了我們的模式，我們就可以在我們想要查找的文本/字符串中搜索這個模式。\n",
    "\n",
    "● match()：確定正則是否在字符串的開頭匹配。\n",
    "\n",
    "● search()：掃描字符串，查找此 RE 匹配的任何位置。\n",
    "\n",
    "● findall()：查找RE匹配的所有子字符串，並將它們作為列表返回。\n",
    "\n",
    "● finditer()：查找所有正則匹配的子串，並將它們作為迭代器返回。"
   ]
  },
  {
   "cell_type": "code",
   "execution_count": 15,
   "id": "1c139033",
   "metadata": {},
   "outputs": [
    {
     "name": "stdout",
     "output_type": "stream",
     "text": [
      "<re.Match object; span=(5, 8), match='123'>\n",
      "(5, 8) 5 8\n",
      "123\n",
      "<re.Match object; span=(13, 16), match='123'>\n",
      "(13, 16) 13 16\n",
      "123\n",
      "\n",
      "123\n",
      "123\n",
      "\n",
      "None\n",
      "<re.Match object; span=(0, 5), match='river'>\n",
      "\n",
      "<re.Match object; span=(0, 5), match='river'>\n"
     ]
    }
   ],
   "source": [
    "# finditer()\n",
    "my_string = 'river123RIVER123river'\n",
    "pattern = re.compile(r'123')\n",
    "matches = pattern.finditer(my_string)\n",
    "for match in matches:\n",
    "    print(match)\n",
    "    print(match.span(), match.start(), match.end())\n",
    "    print(match.group()) # returns the string\n",
    "\n",
    "print()\n",
    "# findall()\n",
    "pattern = re.compile(r'123')\n",
    "matches = pattern.findall(my_string)\n",
    "for match in matches:\n",
    "    print(match)\n",
    "\n",
    "print()\n",
    "# match\n",
    "match = pattern.match(my_string)\n",
    "print(match)\n",
    "pattern = re.compile(r'river')\n",
    "match = pattern.match(my_string)\n",
    "print(match)\n",
    "\n",
    "print()\n",
    "# search\n",
    "match = pattern.search(my_string)\n",
    "print(match)"
   ]
  },
  {
   "cell_type": "markdown",
   "id": "16c33cef",
   "metadata": {},
   "source": [
    "<h1><center>Match 對像上的方法</center></h1>\n",
    "● group()：返回正則匹配的字符串\n",
    "\n",
    "● start()：返回匹配的起始位置\n",
    "\n",
    "● end()：返回匹配的結束位置\n",
    "\n",
    "● span()：返回一個包含匹配（開始，結束）位置的元組"
   ]
  },
  {
   "cell_type": "code",
   "execution_count": 12,
   "id": "f2ca6e66",
   "metadata": {},
   "outputs": [
    {
     "name": "stdout",
     "output_type": "stream",
     "text": [
      "<re.Match object; span=(3, 6), match='abc'>\n",
      "(3, 6) 3 6\n",
      "abc\n",
      "<re.Match object; span=(12, 15), match='abc'>\n",
      "(12, 15) 12 15\n",
      "abc\n"
     ]
    }
   ],
   "source": [
    "test_string = '123abc456789abc123ABC'\n",
    "pattern = re.compile(r'abc')\n",
    "matches = pattern.finditer(test_string)\n",
    "for match in matches:\n",
    "    print(match)\n",
    "    print(match.span(), match.start(), match.end())\n",
    "    print(match.group()) # returns the substring that was matched by the RE"
   ]
  },
  {
   "cell_type": "markdown",
   "id": "a1346ed3",
   "metadata": {},
   "source": [
    "<h1><center>元字符</center></h1>\n",
    "元字符是具有特殊含義的\n",
    "\n",
    "字符：所有元字符：. ^ $ * + ? { } [ ] \\ | ( )\n",
    "\n",
    "如果我們真的要搜索字符，則需要對元字符進行轉義\n",
    "\n",
    "● . 任何字符（換行符除外）“he..o”\n",
    "\n",
    "● ^ 以“^hello”開頭\n",
    "\n",
    "● $ 以“world$”結尾\n",
    "\n",
    "● * 零次或多次出現“aix*”\n",
    "\n",
    "● + 一次或多次出現“aix+”\n",
    "\n",
    "● { } 恰好是指定的出現次數“al{2}”\n",
    "\n",
    "● [] 一組字符“[am]”\n",
    "\n",
    "● 表示特殊序列（也可用於轉義特殊字符）“\\d”\n",
    "\n",
    "● 要馬“A|B”\n",
    "\n",
    "● ( ) 捕獲和分組"
   ]
  },
  {
   "cell_type": "code",
   "execution_count": 13,
   "id": "f3bc9fba",
   "metadata": {},
   "outputs": [
    {
     "name": "stdout",
     "output_type": "stream",
     "text": [
      "<re.Match object; span=(15, 16), match='.'>\n"
     ]
    }
   ],
   "source": [
    "test_string = 'python-engineer.com'\n",
    "pattern = re.compile(r'\\.')\n",
    "matches = pattern.finditer(test_string)\n",
    "for match in matches:\n",
    "    print(match)"
   ]
  },
  {
   "cell_type": "markdown",
   "id": "cf487004",
   "metadata": {},
   "source": [
    "<h1><center>更多元字符/特殊序列</center></h1>\n",
    "\n",
    "特殊序列是 \\ 後跟下表中的字符之一，具有特殊含義：\n",
    "\n",
    "● \\d ：匹配任何十進制數字；這相當於類 [0-9]。\n",
    "\n",
    "● \\D ：匹配任何非數字字符；這相當於類 [^0-9]。\n",
    "\n",
    "● \\s ：匹配任何空白字符；\n",
    "\n",
    "● \\S ：匹配任何非空白字符；\n",
    "\n",
    "● \\w ：匹配任何字母數字（單詞）字符；這相當於 [a-zA-Z0-9_] 類。\n",
    "\n",
    "● \\W ：匹配任何非字母數字字符；這相當於類 [^a-zA-Z0-9_]。\n",
    "\n",
    "● \\b 返回指定字符位於單詞開頭或結尾的匹配項 r\"\\bain\" r\"ain\\b\"\n",
    "\n",
    "● \\B 返回存在指定字符的匹配項，但不在單詞 r\"\\Bain\" r\"ain\\B\" 的開頭（或結尾）\n",
    "\n",
    "● \\A 如果指定字符位於字符串“\\AThe”的開頭，則返回匹配項\n",
    "\n",
    "● \\Z 如果指定的字符位於字符串“Spain\\Z”的末尾，則返回匹配項"
   ]
  },
  {
   "cell_type": "code",
   "execution_count": 16,
   "id": "1152990a",
   "metadata": {},
   "outputs": [
    {
     "name": "stdout",
     "output_type": "stream",
     "text": [
      "<re.Match object; span=(6, 7), match='1'>\n",
      "<re.Match object; span=(7, 8), match='2'>\n",
      "<re.Match object; span=(8, 9), match='3'>\n",
      "\n",
      "<re.Match object; span=(5, 6), match=' '>\n",
      "<re.Match object; span=(10, 11), match=' '>\n",
      "<re.Match object; span=(16, 17), match=' '>\n",
      "\n",
      "<re.Match object; span=(0, 1), match='h'>\n",
      "<re.Match object; span=(1, 2), match='e'>\n",
      "<re.Match object; span=(2, 3), match='l'>\n",
      "<re.Match object; span=(3, 4), match='l'>\n",
      "<re.Match object; span=(4, 5), match='o'>\n",
      "<re.Match object; span=(6, 7), match='1'>\n",
      "<re.Match object; span=(7, 8), match='2'>\n",
      "<re.Match object; span=(8, 9), match='3'>\n",
      "<re.Match object; span=(9, 10), match='_'>\n",
      "<re.Match object; span=(11, 12), match='h'>\n",
      "<re.Match object; span=(12, 13), match='e'>\n",
      "<re.Match object; span=(13, 14), match='y'>\n",
      "<re.Match object; span=(14, 15), match='h'>\n",
      "<re.Match object; span=(15, 16), match='o'>\n",
      "<re.Match object; span=(17, 18), match='h'>\n",
      "<re.Match object; span=(18, 19), match='o'>\n",
      "<re.Match object; span=(19, 20), match='h'>\n",
      "<re.Match object; span=(20, 21), match='e'>\n",
      "<re.Match object; span=(21, 22), match='y'>\n",
      "\n",
      "<re.Match object; span=(0, 3), match='hey'>\n",
      "\n",
      "<re.Match object; span=(0, 5), match='hello'>\n",
      "\n"
     ]
    }
   ],
   "source": [
    "test_string = 'hello 123_ heyho hohey'\n",
    "pattern = re.compile(r'\\d')\n",
    "matches = pattern.finditer(test_string)\n",
    "for match in matches:\n",
    "    print(match)\n",
    "\n",
    "print()\n",
    "pattern = re.compile(r'\\s')\n",
    "matches = pattern.finditer(test_string)\n",
    "for match in matches:\n",
    "    print(match)\n",
    "    \n",
    "print()\n",
    "pattern = re.compile(r'\\w')\n",
    "matches = pattern.finditer(test_string)\n",
    "for match in matches:\n",
    "    print(match)\n",
    "    \n",
    "print()\n",
    "pattern = re.compile(r'\\bhey')\n",
    "matches = pattern.finditer('heyho hohey') # ho-hey, ho\\nhey are matches!\n",
    "for match in matches:\n",
    "    print(match)\n",
    "    \n",
    "print()\n",
    "pattern = re.compile(r'\\Ahello')\n",
    "matches = pattern.finditer(test_string)\n",
    "for match in matches:\n",
    "    print(match)\n",
    "    \n",
    "print()\n",
    "pattern = re.compile(r'123_\\Z')\n",
    "matches = pattern.finditer(test_string)\n",
    "for match in matches:\n",
    "    print(match)"
   ]
  },
  {
   "cell_type": "markdown",
   "id": "98fa1cdd",
   "metadata": {},
   "source": [
    "<h1><center>Sets</center></h1>\n",
    "●集合是一對方括號 [] 內的一組具有特殊含義的字符。背靠背附加多個條件，例如 [aA-Z]。\n",
    "\n",
    "●集合內的 ^（插入符號）否定表達式。\n",
    "\n",
    "●集合中的 -（破折號）指定一個範圍（如果介於兩者之間），否則為破折號本身。\n",
    "\n",
    "示例：\n",
    "\n",
    "- [arn] 返回存在指定字符（a、r 或 n）之一的匹配項 \n",
    "\n",
    "- [an]  返回任何小寫字符的匹配項，按字母順序在 a 和 n 之間\n",
    "\n",
    "- [^arn] 返回 a匹配除 a、r 和 n 之外的任何字符\n",
    "\n",
    "- [0123] 返回存在任何指定數字（0、1、2 或 3）的匹配項 \n",
    "\n",
    "- [0-9] 返回匹配 0 之間的任何數字和 9\n",
    "\n",
    "- 0-5返回從 00 到 59 的任何兩位數字的匹配項\n",
    "\n",
    "- [a-zA-Z] 按字母順序返回 a 和 z 之間的任何字符的匹配項，小寫或大寫"
   ]
  },
  {
   "cell_type": "code",
   "execution_count": 18,
   "id": "b06a04d6",
   "metadata": {},
   "outputs": [
    {
     "name": "stdout",
     "output_type": "stream",
     "text": [
      "<re.Match object; span=(0, 1), match='h'>\n",
      "<re.Match object; span=(1, 2), match='e'>\n",
      "<re.Match object; span=(2, 3), match='l'>\n",
      "<re.Match object; span=(3, 4), match='l'>\n",
      "<re.Match object; span=(4, 5), match='o'>\n"
     ]
    }
   ],
   "source": [
    "test_string = 'hello 123_'\n",
    "pattern = re.compile(r'[a-z]')\n",
    "matches = pattern.finditer(test_string)\n",
    "for match in matches:\n",
    "    print(match)"
   ]
  },
  {
   "cell_type": "code",
   "execution_count": 19,
   "id": "6f88ddc3",
   "metadata": {},
   "outputs": [
    {
     "name": "stdout",
     "output_type": "stream",
     "text": [
      "all dates with a character in between\n",
      "<re.Match object; span=(13, 23), match='2020.04.01'>\n",
      "<re.Match object; span=(25, 35), match='2020-04-01'>\n",
      "<re.Match object; span=(36, 46), match='2020-05-23'>\n",
      "<re.Match object; span=(47, 57), match='2020-06-11'>\n",
      "<re.Match object; span=(58, 68), match='2020-07-11'>\n",
      "<re.Match object; span=(69, 79), match='2020-08-11'>\n",
      "<re.Match object; span=(81, 91), match='2020/04/02'>\n",
      "<re.Match object; span=(93, 103), match='2020_04_04'>\n",
      "<re.Match object; span=(104, 114), match='2020_04_04'>\n",
      "\n",
      "only dates with - or . in between\n",
      "<re.Match object; span=(13, 23), match='2020.04.01'>\n",
      "<re.Match object; span=(25, 35), match='2020-04-01'>\n",
      "<re.Match object; span=(36, 46), match='2020-05-23'>\n",
      "<re.Match object; span=(47, 57), match='2020-06-11'>\n",
      "<re.Match object; span=(58, 68), match='2020-07-11'>\n",
      "<re.Match object; span=(69, 79), match='2020-08-11'>\n",
      "\n",
      "only dates with - or . in between in May or June\n",
      "<re.Match object; span=(36, 46), match='2020-05-23'>\n",
      "<re.Match object; span=(47, 57), match='2020-06-11'>\n",
      "\n",
      "only dates with - or . in between in May, June, July\n",
      "<re.Match object; span=(36, 46), match='2020-05-23'>\n",
      "<re.Match object; span=(47, 57), match='2020-06-11'>\n",
      "<re.Match object; span=(58, 68), match='2020-07-11'>\n"
     ]
    }
   ],
   "source": [
    "dates = '''\n",
    "01.04.2020\n",
    "\n",
    "2020.04.01\n",
    "\n",
    "2020-04-01\n",
    "2020-05-23\n",
    "2020-06-11\n",
    "2020-07-11\n",
    "2020-08-11\n",
    "\n",
    "2020/04/02\n",
    "\n",
    "2020_04_04\n",
    "2020_04_04\n",
    "'''\n",
    "\n",
    "print('all dates with a character in between')\n",
    "pattern = re.compile(r'\\d\\d\\d\\d.\\d\\d.\\d\\d')\n",
    "matches = pattern.finditer(dates)\n",
    "for match in matches:\n",
    "    print(match)\n",
    "print()\n",
    "\n",
    "print('only dates with - or . in between')\n",
    "pattern = re.compile(r'\\d\\d\\d\\d[-.]\\d\\d[-.]\\d\\d') #  no escape for the . here in the set\n",
    "matches = pattern.finditer(dates)\n",
    "for match in matches:\n",
    "    print(match)\n",
    "\n",
    "print()\n",
    "print('only dates with - or . in between in May or June')\n",
    "pattern = re.compile(r'\\d\\d\\d\\d[-.]0[56][-.]\\d\\d')\n",
    "matches = pattern.finditer(dates)\n",
    "for match in matches:\n",
    "    print(match)\n",
    "    \n",
    "# a dash in a character set specifies a range if it is in between, otherwise the dash itself\n",
    "print()\n",
    "print('only dates with - or . in between in May, June, July')\n",
    "pattern = re.compile(r'\\d\\d\\d\\d[-.]0[5-7][-.]\\d\\d') #  no escape for the . here in the set\n",
    "matches = pattern.finditer(dates)\n",
    "for match in matches:\n",
    "    print(match)"
   ]
  },
  {
   "cell_type": "markdown",
   "id": "61a1a506",
   "metadata": {},
   "source": [
    "<h1><center>量化</center></h1>\n",
    "● * : 0 或更多\n",
    "\n",
    "● + : 1 個或更多\n",
    "\n",
    "● ? : 0 或 1，當字符可選時使用\n",
    "\n",
    "● {4} : 確切數字\n",
    "\n",
    "● {4,6} ：範圍數（最小值，最大值）"
   ]
  },
  {
   "cell_type": "code",
   "execution_count": 20,
   "id": "7a2d6851",
   "metadata": {},
   "outputs": [
    {
     "name": "stdout",
     "output_type": "stream",
     "text": [
      "<re.Match object; span=(0, 0), match=''>\n",
      "<re.Match object; span=(1, 1), match=''>\n",
      "<re.Match object; span=(2, 2), match=''>\n",
      "<re.Match object; span=(3, 3), match=''>\n",
      "<re.Match object; span=(4, 4), match=''>\n",
      "<re.Match object; span=(5, 5), match=''>\n",
      "<re.Match object; span=(6, 9), match='123'>\n",
      "<re.Match object; span=(9, 9), match=''>\n",
      "\n",
      "<re.Match object; span=(6, 9), match='123'>\n",
      "\n",
      "<re.Match object; span=(5, 7), match='_1'>\n",
      "<re.Match object; span=(7, 9), match='_2'>\n",
      "<re.Match object; span=(10, 11), match='3'>\n",
      "\n",
      "<re.Match object; span=(0, 4), match='2020'>\n"
     ]
    }
   ],
   "source": [
    "my_string = 'hello_123'\n",
    "pattern = re.compile(r'\\d*')\n",
    "matches = pattern.finditer(my_string)\n",
    "for match in matches:\n",
    "    print(match)\n",
    "\n",
    "print()\n",
    "pattern = re.compile(r'\\d+')\n",
    "matches = pattern.finditer(my_string)\n",
    "for match in matches:\n",
    "    print(match)\n",
    "    \n",
    "print()\n",
    "my_string = 'hello_1_2-3'\n",
    "pattern = re.compile(r'_?\\d')\n",
    "matches = pattern.finditer(my_string)\n",
    "for match in matches:\n",
    "    print(match)\n",
    "    \n",
    "print()\n",
    "my_string = '2020-04-01'\n",
    "pattern = re.compile(r'\\d{4}') # or if you need a range r'\\d{3,5}'\n",
    "matches = pattern.finditer(my_string)\n",
    "for match in matches:\n",
    "    print(match)"
   ]
  },
  {
   "cell_type": "code",
   "execution_count": 21,
   "id": "b8c198e4",
   "metadata": {},
   "outputs": [
    {
     "name": "stdout",
     "output_type": "stream",
     "text": [
      "<re.Match object; span=(1, 11), match='2020.04.01'>\n",
      "<re.Match object; span=(13, 23), match='2020-04-01'>\n",
      "<re.Match object; span=(24, 34), match='2020-05-23'>\n",
      "<re.Match object; span=(35, 45), match='2020-06-11'>\n",
      "<re.Match object; span=(46, 56), match='2020-07-11'>\n",
      "<re.Match object; span=(57, 67), match='2020-08-11'>\n",
      "<re.Match object; span=(69, 79), match='2020/04/02'>\n",
      "<re.Match object; span=(81, 91), match='2020_04_04'>\n",
      "<re.Match object; span=(92, 102), match='2020_04_04'>\n",
      "\n",
      "<re.Match object; span=(1, 11), match='2020.04.01'>\n",
      "<re.Match object; span=(13, 23), match='2020-04-01'>\n",
      "<re.Match object; span=(24, 34), match='2020-05-23'>\n",
      "<re.Match object; span=(35, 45), match='2020-06-11'>\n",
      "<re.Match object; span=(46, 56), match='2020-07-11'>\n",
      "<re.Match object; span=(57, 67), match='2020-08-11'>\n",
      "<re.Match object; span=(69, 79), match='2020/04/02'>\n",
      "<re.Match object; span=(81, 91), match='2020_04_04'>\n",
      "<re.Match object; span=(92, 102), match='2020_04_04'>\n"
     ]
    }
   ],
   "source": [
    "dates = '''\n",
    "2020.04.01\n",
    "\n",
    "2020-04-01\n",
    "2020-05-23\n",
    "2020-06-11\n",
    "2020-07-11\n",
    "2020-08-11\n",
    "\n",
    "2020/04/02\n",
    "\n",
    "2020_04_04\n",
    "2020_04_04\n",
    "'''\n",
    "pattern = re.compile(r'\\d{4}.\\d{2}.\\d{2}')\n",
    "matches = pattern.finditer(dates)\n",
    "for match in matches:\n",
    "    print(match)\n",
    "print()\n",
    "\n",
    "pattern = re.compile(r'\\d+.\\d+.\\d+')\n",
    "matches = pattern.finditer(dates)\n",
    "for match in matches:\n",
    "    print(match)"
   ]
  },
  {
   "cell_type": "markdown",
   "id": "9fd0a15b",
   "metadata": {},
   "source": [
    "<h1><center>條件：Use the \"|\" for either or condition.</center></h1>\n"
   ]
  },
  {
   "cell_type": "code",
   "execution_count": 22,
   "id": "ca801397",
   "metadata": {},
   "outputs": [
    {
     "name": "stdout",
     "output_type": "stream",
     "text": [
      "<re.Match object; span=(1, 11), match='Mr Simpson'>\n",
      "<re.Match object; span=(24, 33), match='Mr. Brown'>\n",
      "<re.Match object; span=(43, 48), match='Mr. T'>\n",
      "\n",
      "<re.Match object; span=(1, 11), match='Mr Simpson'>\n",
      "<re.Match object; span=(12, 23), match='Mrs Simpson'>\n",
      "<re.Match object; span=(24, 33), match='Mr. Brown'>\n",
      "<re.Match object; span=(34, 42), match='Ms Smith'>\n",
      "<re.Match object; span=(43, 48), match='Mr. T'>\n"
     ]
    }
   ],
   "source": [
    "my_string = \"\"\"\n",
    "Mr Simpson\n",
    "Mrs Simpson\n",
    "Mr. Brown\n",
    "Ms Smith\n",
    "Mr. T\n",
    "\"\"\"\n",
    "pattern = re.compile(r'Mr\\.?\\s\\w+')\n",
    "matches = pattern.finditer(my_string)\n",
    "for match in matches:\n",
    "    print(match)\n",
    "\n",
    "print()\n",
    "pattern = re.compile(r'(Mr|Ms|Mrs)\\.?\\s\\w+')\n",
    "matches = pattern.finditer(my_string)\n",
    "for match in matches:\n",
    "    print(match)"
   ]
  },
  {
   "cell_type": "markdown",
   "id": "52534b20",
   "metadata": {},
   "source": [
    "<h1><center>分組 ( ) is used to group substrings in the matches.</center></h1>"
   ]
  },
  {
   "cell_type": "code",
   "execution_count": 23,
   "id": "c1320064",
   "metadata": {},
   "outputs": [
    {
     "name": "stdout",
     "output_type": "stream",
     "text": [
      "<re.Match object; span=(1, 25), match='pythonengineer@gmail.com'>\n",
      "pythonengineer@gmail.com\n",
      "pythonengineer\n",
      "gmail\n",
      "com\n",
      "<re.Match object; span=(26, 48), match='Python-engineer@gmx.de'>\n",
      "Python-engineer@gmx.de\n",
      "Python-engineer\n",
      "gmx\n",
      "de\n",
      "<re.Match object; span=(49, 81), match='python-engineer123@my-domain.org'>\n",
      "python-engineer123@my-domain.org\n",
      "python-engineer123\n",
      "my-domain\n",
      "org\n"
     ]
    }
   ],
   "source": [
    "emails = \"\"\"\n",
    "pythonengineer@gmail.com\n",
    "Python-engineer@gmx.de\n",
    "python-engineer123@my-domain.org\n",
    "\"\"\"\n",
    "pattern = re.compile('[a-zA-Z1-9-]+@[a-zA-Z-]+\\.[a-zA-Z]+')\n",
    "pattern = re.compile('[a-zA-Z1-9-]+@[a-zA-Z-]+\\.(com|de)')\n",
    "pattern = re.compile('([a-zA-Z1-9-]+)@([a-zA-Z-]+)\\.([a-zA-Z]+)')\n",
    "matches = pattern.finditer(emails)\n",
    "for match in matches:\n",
    "    print(match)\n",
    "    print(match.group(0))\n",
    "    print(match.group(1))\n",
    "    print(match.group(2))\n",
    "    print(match.group(3))"
   ]
  },
  {
   "cell_type": "markdown",
   "id": "679de7cc",
   "metadata": {},
   "source": [
    "<h1><center>修改字符串</center></h1>\n",
    "● split(): 將字符串拆分成一個列表，在 RE 匹配的地方拆分它\n",
    "\n",
    "● sub()：查找RE匹配的所有子字符串，並用不同的字符串替換它們"
   ]
  },
  {
   "cell_type": "code",
   "execution_count": 24,
   "id": "524c4fef",
   "metadata": {},
   "outputs": [
    {
     "name": "stdout",
     "output_type": "stream",
     "text": [
      "['abc', 'ABCDEF', 'abc']\n",
      "hello planet, you are the best planet\n"
     ]
    }
   ],
   "source": [
    "my_string = 'abc123ABCDEF123abc'\n",
    "pattern = re.compile(r'123') #  no escape for the . here in the set\n",
    "matches = pattern.split(my_string)\n",
    "print(matches)\n",
    "\n",
    "my_string = \"hello world, you are the best world\"\n",
    "pattern = re.compile(r'world')\n",
    "subbed_string = pattern.sub(r'planet', my_string)\n",
    "print(subbed_string)"
   ]
  },
  {
   "cell_type": "code",
   "execution_count": 25,
   "id": "303bc2e6",
   "metadata": {},
   "outputs": [
    {
     "name": "stdout",
     "output_type": "stream",
     "text": [
      "http://python-engineer.com\n",
      ".com\n",
      "https://www.python-engineer.org\n",
      ".org\n",
      "http://www.pyeng.net\n",
      ".net\n",
      "\n",
      "python-engineer.com\n",
      "python-engineer.org\n",
      "pyeng.net\n",
      "\n"
     ]
    }
   ],
   "source": [
    "urls = \"\"\"\n",
    "http://python-engineer.com\n",
    "https://www.python-engineer.org\n",
    "http://www.pyeng.net\n",
    "\"\"\"\n",
    "pattern = re.compile(r'https?://(www\\.)?(\\w|-)+\\.\\w+')\n",
    "pattern = re.compile(r'https?://(www\\.)?([a-zA-Z-]+)(\\.\\w+)')\n",
    "matches = pattern.finditer(urls)\n",
    "for match in matches:\n",
    "    #print(match)\n",
    "    print(match.group()) # 0\n",
    "    #print(match.group(1))\n",
    "    #print(match.group(2))\n",
    "    print(match.group(3))\n",
    "    \n",
    "# substitute using back references to replace url + domain name\n",
    "subbed_urls = pattern.sub(r'\\2\\3', urls)\n",
    "print(subbed_urls)"
   ]
  },
  {
   "cell_type": "markdown",
   "id": "ca78b5b7",
   "metadata": {},
   "source": [
    "<h1><center>Compilation Flags</center></h1>\n",
    "● ASCII, A ：使 \\w、\\b、\\s 和 \\d 等多個轉義符僅匹配具有相應屬性的 ASCII 字符。\n",
    "\n",
    "● DOTALL，S：製作。匹配任何字符，包括換行符。\n",
    "\n",
    "● IGNORECASE, I ：進行不區分大小寫的匹配。\n",
    "\n",
    "● LOCALE, L ：進行區域設置匹配。\n",
    "\n",
    "● MULTILINE, M : 多行匹配，影響 ^ 和 $。\n",
    "\n",
    "● VERBOSE, X (for 'extended') : 啟用詳細的 REs，可以更清晰地組織和理解。"
   ]
  },
  {
   "cell_type": "code",
   "execution_count": 26,
   "id": "72606603",
   "metadata": {},
   "outputs": [
    {
     "name": "stdout",
     "output_type": "stream",
     "text": [
      "<re.Match object; span=(6, 11), match='World'>\n",
      "<re.Match object; span=(1, 2), match='h'>\n",
      "<re.Match object; span=(7, 8), match='c'>\n"
     ]
    }
   ],
   "source": [
    "my_string = \"Hello World\"\n",
    "pattern = re.compile(r'world', re.IGNORECASE) # No match without I flag\n",
    "matches = pattern.finditer(my_string)\n",
    "for match in matches:\n",
    "    print(match)\n",
    "\n",
    "my_string = '''\n",
    "hello\n",
    "cool\n",
    "Hello\n",
    "'''\n",
    "# line starts with ...\n",
    "pattern = re.compile(r'^[a-z]', re.MULTILINE) # No match without M flag\n",
    "matches = pattern.finditer(my_string)\n",
    "for match in matches:\n",
    "    print(match)"
   ]
  }
 ],
 "metadata": {
  "kernelspec": {
   "display_name": "Python 3",
   "language": "python",
   "name": "python3"
  },
  "language_info": {
   "codemirror_mode": {
    "name": "ipython",
    "version": 3
   },
   "file_extension": ".py",
   "mimetype": "text/x-python",
   "name": "python",
   "nbconvert_exporter": "python",
   "pygments_lexer": "ipython3",
   "version": "3.8.8"
  }
 },
 "nbformat": 4,
 "nbformat_minor": 5
}
